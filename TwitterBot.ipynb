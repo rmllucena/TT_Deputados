{
 "cells": [
  {
   "cell_type": "code",
   "execution_count": 4,
   "metadata": {},
   "outputs": [],
   "source": [
    "import tweepy as tw\n",
    "\n",
    "# Authenticate to Twitter\n",
    "consumer_key = 'aIUu7CRGvxTcFnFDXAtYgWWxD'\n",
    "consumer_secret = 'TOnnTfn9R5iBsU06HWOKEhrHG3at2CazOBm9M0LUUsB1QSFA1E'\n",
    "access_token = '1334970274404511751-lt812xBiTKmkmZWOihk2niP1enp4Hy'\n",
    "access_token_secret = 'cSXrrgo2l042RE5vHBg2eraa5b0zK0b2ZdbDkEzFnhCrE'\n",
    "# AUTENTICAÇÃO TWITTER\n",
    "auth = tw.OAuthHandler(consumer_key, consumer_secret)\n",
    "auth.set_access_token(access_token, access_token_secret)\n",
    "api = tw.API(auth, wait_on_rate_limit=True)\n"
   ]
  },
  {
   "cell_type": "code",
   "execution_count": 8,
   "metadata": {},
   "outputs": [
    {
     "name": "stderr",
     "output_type": "stream",
     "text": [
      "INFO:root:Retrieving mentions\n"
     ]
    },
    {
     "name": "stdout",
     "output_type": "stream",
     "text": [
      "['@zeca_dirceu', '@bot_polit', 'me', 'ajuda', 'aqui']\n"
     ]
    },
    {
     "name": "stderr",
     "output_type": "stream",
     "text": [
      "INFO:root:Answering to Rômulo Lucena 🌐🇺🇳\n",
      "INFO:root:Waiting...\n",
      "INFO:root:Retrieving mentions\n",
      "INFO:root:Waiting...\n",
      "INFO:root:Retrieving mentions\n"
     ]
    },
    {
     "name": "stdout",
     "output_type": "stream",
     "text": [
      "['@RodrigoMaia', '@bot_polit', 'me', 'da', 'uma', 'ajuda']\n"
     ]
    },
    {
     "name": "stderr",
     "output_type": "stream",
     "text": [
      "INFO:root:Answering to Rômulo Lucena 🌐🇺🇳\n",
      "INFO:root:Waiting...\n",
      "INFO:root:Retrieving mentions\n",
      "INFO:root:Waiting...\n",
      "INFO:root:Retrieving mentions\n",
      "INFO:root:Waiting...\n",
      "INFO:root:Retrieving mentions\n",
      "INFO:root:Waiting...\n",
      "INFO:root:Retrieving mentions\n",
      "INFO:root:Waiting...\n",
      "INFO:root:Retrieving mentions\n",
      "INFO:root:Waiting...\n",
      "INFO:root:Retrieving mentions\n"
     ]
    },
    {
     "name": "stdout",
     "output_type": "stream",
     "text": [
      "['@RodrigoMaia', '@bot_polit', 'me', 'ajuda', 'aqui']\n"
     ]
    },
    {
     "name": "stderr",
     "output_type": "stream",
     "text": [
      "INFO:root:Answering to Pedro Henrique\n",
      "INFO:root:Waiting...\n",
      "INFO:root:Retrieving mentions\n",
      "INFO:root:Waiting...\n",
      "INFO:root:Retrieving mentions\n",
      "INFO:root:Waiting...\n",
      "INFO:root:Retrieving mentions\n",
      "INFO:root:Waiting...\n",
      "INFO:root:Retrieving mentions\n",
      "INFO:root:Waiting...\n"
     ]
    },
    {
     "ename": "KeyboardInterrupt",
     "evalue": "",
     "output_type": "error",
     "traceback": [
      "\u001b[1;31m---------------------------------------------------------------------------\u001b[0m",
      "\u001b[1;31mKeyboardInterrupt\u001b[0m                         Traceback (most recent call last)",
      "\u001b[1;32m<ipython-input-8-5a4ed08c024a>\u001b[0m in \u001b[0;36m<module>\u001b[1;34m\u001b[0m\n\u001b[0;32m     77\u001b[0m \u001b[1;33m\u001b[0m\u001b[0m\n\u001b[0;32m     78\u001b[0m \u001b[1;32mif\u001b[0m \u001b[0m__name__\u001b[0m \u001b[1;33m==\u001b[0m \u001b[1;34m\"__main__\"\u001b[0m\u001b[1;33m:\u001b[0m\u001b[1;33m\u001b[0m\u001b[1;33m\u001b[0m\u001b[0m\n\u001b[1;32m---> 79\u001b[1;33m     \u001b[0mmain\u001b[0m\u001b[1;33m(\u001b[0m\u001b[1;33m)\u001b[0m\u001b[1;33m\u001b[0m\u001b[1;33m\u001b[0m\u001b[0m\n\u001b[0m",
      "\u001b[1;32m<ipython-input-8-5a4ed08c024a>\u001b[0m in \u001b[0;36mmain\u001b[1;34m()\u001b[0m\n\u001b[0;32m     74\u001b[0m         \u001b[0msince_id\u001b[0m \u001b[1;33m=\u001b[0m \u001b[0mcheck_mentions\u001b[0m\u001b[1;33m(\u001b[0m\u001b[0mapi\u001b[0m\u001b[1;33m,\u001b[0m \u001b[1;34m\"ajuda\"\u001b[0m\u001b[1;33m,\u001b[0m \u001b[0msince_id\u001b[0m\u001b[1;33m)\u001b[0m\u001b[1;33m\u001b[0m\u001b[1;33m\u001b[0m\u001b[0m\n\u001b[0;32m     75\u001b[0m         \u001b[0mlogger\u001b[0m\u001b[1;33m.\u001b[0m\u001b[0minfo\u001b[0m\u001b[1;33m(\u001b[0m\u001b[1;34m\"Waiting...\"\u001b[0m\u001b[1;33m)\u001b[0m\u001b[1;33m\u001b[0m\u001b[1;33m\u001b[0m\u001b[0m\n\u001b[1;32m---> 76\u001b[1;33m         \u001b[0mtime\u001b[0m\u001b[1;33m.\u001b[0m\u001b[0msleep\u001b[0m\u001b[1;33m(\u001b[0m\u001b[1;36m60\u001b[0m\u001b[1;33m)\u001b[0m\u001b[1;33m\u001b[0m\u001b[1;33m\u001b[0m\u001b[0m\n\u001b[0m\u001b[0;32m     77\u001b[0m \u001b[1;33m\u001b[0m\u001b[0m\n\u001b[0;32m     78\u001b[0m \u001b[1;32mif\u001b[0m \u001b[0m__name__\u001b[0m \u001b[1;33m==\u001b[0m \u001b[1;34m\"__main__\"\u001b[0m\u001b[1;33m:\u001b[0m\u001b[1;33m\u001b[0m\u001b[1;33m\u001b[0m\u001b[0m\n",
      "\u001b[1;31mKeyboardInterrupt\u001b[0m: "
     ]
    }
   ],
   "source": [
    "#!/usr/bin/env python\n",
    "# tweepy-bots/bots/autoreply.py\n",
    "\n",
    "import tweepy\n",
    "import logging\n",
    "#from config import create_api\n",
    "import time\n",
    "\n",
    "logging.basicConfig(level=logging.INFO)\n",
    "logger = logging.getLogger()\n",
    "\n",
    "\n",
    "\n",
    "\n",
    "\n",
    "#Deputado = \"@tabataamaralsp\"\n",
    "\n",
    "#filenames = ['{}.png'.format(Deputado)]\n",
    "#media_ids = []\n",
    "#for filename in filenames:\n",
    "#    res = api.media_upload(filename)\n",
    "#    media_ids.append(res.media_id)\n",
    "\n",
    "\n",
    "\n",
    "def check_mentions(api, keywords, since_id):\n",
    "    logger.info(\"Retrieving mentions\")\n",
    "    new_since_id = since_id\n",
    "    for tweet in tweepy.Cursor(api.mentions_timeline,\n",
    "        since_id=since_id).items():\n",
    "        \n",
    "        \n",
    "        Texto = tweet.text.split()\n",
    "        print(Texto)\n",
    "        \n",
    "        filenames = ['{}.png'.format(Texto[0])]\n",
    "        media_ids = []\n",
    "        for filename in filenames:\n",
    "            res = api.media_upload(filename)\n",
    "            media_ids.append(res.media_id)\n",
    "        \n",
    "        \n",
    "        new_since_id = max(tweet.id, new_since_id)\n",
    "        if tweet.in_reply_to_status_id is None:\n",
    "            continue\n",
    "        if any(keyword in tweet.text.lower() for keyword in keywords):\n",
    "            logger.info(f\"Answering to {tweet.user.name}\")\n",
    "\n",
    "            if not tweet.user.following:\n",
    "                tweet.user.follow()\n",
    "                \n",
    "                \n",
    "                \n",
    "\n",
    "                \n",
    "                \n",
    "            \n",
    "                     \n",
    "        \n",
    "            api.update_status(\n",
    "                status=\"Oi, {}! Seguem informações: {}-Set/20. Siga para mais conteúdo \".format(\"@\"+tweet.user.screen_name,Texto[0]),\n",
    "                in_reply_to_status_id=tweet.id, media_ids=media_ids\n",
    "            )\n",
    "    return new_since_id\n",
    "\n",
    "\n",
    "\n",
    "\n",
    "\n",
    "def main():\n",
    "    #api = create_api()\n",
    "    since_id = 1\n",
    "    while True:\n",
    "        since_id = check_mentions(api, \"ajuda\", since_id)\n",
    "        logger.info(\"Waiting...\")\n",
    "        time.sleep(60)\n",
    "\n",
    "if __name__ == \"__main__\":\n",
    "    main()"
   ]
  },
  {
   "cell_type": "code",
   "execution_count": null,
   "metadata": {},
   "outputs": [],
   "source": [
    "Merge"
   ]
  },
  {
   "cell_type": "code",
   "execution_count": null,
   "metadata": {},
   "outputs": [],
   "source": []
  }
 ],
 "metadata": {
  "kernelspec": {
   "display_name": "Python 3",
   "language": "python",
   "name": "python3"
  },
  "language_info": {
   "codemirror_mode": {
    "name": "ipython",
    "version": 3
   },
   "file_extension": ".py",
   "mimetype": "text/x-python",
   "name": "python",
   "nbconvert_exporter": "python",
   "pygments_lexer": "ipython3",
   "version": "3.9.2"
  }
 },
 "nbformat": 4,
 "nbformat_minor": 4
}
