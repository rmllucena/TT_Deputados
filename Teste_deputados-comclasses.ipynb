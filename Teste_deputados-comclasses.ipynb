{
 "cells": [
  {
   "cell_type": "code",
   "execution_count": 1,
   "metadata": {
    "scrolled": true
   },
   "outputs": [
    {
     "name": "stdout",
     "output_type": "stream",
     "text": [
      "[['padilhando', 'URGENTE Bolsonaro está planejando um Dia D contra a Covid-19 com distribuição de kits com REMÉDIOS SEM EFICÁCIA COMPROVADA! \\nBolsonaro não quer ajudar a população, ele quer se desfazer dos remédios que foram descartados no Brasil pelos Estados Unidos!', 133, 367, '2020-09-25', '18:57:16'], ['padilhando', 'Não foram os povos indígenas que causaram a destruição do pantanal, Bolsonaro. Foram os grandes latifundiários, seguidores do seu discurso, que fizeram esse absurdo. https://t.co/kA4uplh47N', 21, 36, '2020-09-25', '16:53:24'], ['AlexisFonteyne', 'Por 69 votos a 0 os deputados cariocas aprovaram que siga o impeachment do governador @wilsonwitzel. Ninguém deve estar acima da lei e é bom que os que estão à frente dos orçamentos públicos estejam antenados de que o momento político não é mais o da impunidade.', 10, 103, '2020-09-24', '13:16:12'], ['AlexisFonteyne', 'Países mais ricos priorizaram o retorno da educação, antes de eventos e futebol. É possível que vejamos o público no Maracanã antes das crianças nas escolas. Precisamos voltar à rotina com segurança e cuidados antes que os prejuízos sejam ainda maiores para a próxima geração.', 1, 67, '2020-09-22', '19:47:38'], ['Alice_Portugal', 'Acompanhe a segunda Reunião Técnica do Grupo de Trabalho \"Mulher e Economia\" da Sec. da Mulher p/ discutir sobre o Projeto de Lei Orçamentária Anual (PLOA 2021) e o impacto do orçamento na vida das mulheres.\\n\\nAcompanhe pelo Youtube da TV Câmara ou acesse: https://t.co/lCr4LKi2fY https://t.co/WlqUEHfygT', 1, 3, '2020-09-25', '18:18:07'], ['Alice_Portugal', 'Parabéns a todos e todas que fazem parte desta profissão milenar, que muito contribui com a saúde pública e que tem jogado um papel essencial no enfrentamento ao coronavírus!\\n\\n#diainternacionaldofarmacêutico #farmacêuticos #farmacêuticas\\n#homenagem #saúdepública https://t.co/FSa0MEgrNP', 1, 7, '2020-09-25', '18:15:24'], ['alielmachado', 'Quero manifestar também minha tristeza com a perda do meu amigo Nilsão, vítima da Covid-19. Nilsão foi vereador na mesma legislatura que a minha e foi um lutador pelos direitos dos trabalhadores. Uma pessoa simples que fará muita falta. Que Deus conforte a família.', 0, 3, '2020-09-25', '17:18:14'], ['alielmachado', 'Meus sinceros sentimentos a professora Elizabeth Schmidt pela perda irreparável de seu pai. Que Deus traga conforto a sua família nesse momento difícil.', 0, 2, '2020-09-25', '17:13:43'], ['dep_alinegurgel', 'Amapá em alta novamente mortes por covid 19 precisamos continuar seguindo os protocolos de segurança.', 1, 1, '2020-09-25', '02:35:55'], ['dep_alinegurgel', 'RT @governodoamapa: Hoje, mais uma etapa do maior investimento já feito em Segurança Pública na história do Amapá foi concluída. O Governo…', 3, 0, '2020-09-24', '21:21:05'], ['AlineSleutjes', 'Boa Notícia\\nPresidente @jairbolsonaro passa bem após cirurgia para retirada de cálculo na bexiga. Agradeço todos que estavam na torcida pelo nosso presidente  principalmente por suas orações.', 22, 257, '2020-09-25', '19:19:22'], ['AlineSleutjes', 'Quem ainda não assinou o apoiamento do Aliança pelo Brasil, correeeee, vamos ajudar a criar o único partido realmente d direita,conservador,cristão e claro, o partido do nosso Presidente @jairbolsonaro.Bora pegar no site @somosalianca a sua ficha e ajude a construir um novo País! https://t.co/MTl6ziv8Jq', 25, 106, '2020-09-24', '19:46:49'], ['andrepdt12', 'É importante ficarmos atento para essa privatização dos Correios, que pode elevar dramaticamente o custo de postagem no Brasil, matando milhares de pequenas empresas que vivem de venda de seus produtos via Correio.', 10, 70, '2020-09-25', '18:17:26'], ['andrepdt12', 'É muito cinismo falar em \"privilégios\" diante de trabalhadores que ganham salário inicial de R$ 1.200, enquanto ele, um membro do baronato, recebe milhões de reais em renúncia fiscal, todos os anos!\\n\\n. @cirogomes vem denunciando esse cidadão há tempos! https://t.co/7X1OBJOMjr', 15, 85, '2020-09-25', '18:17:25'], ['AndreJanonesAdv', 'O interesse das pessoas deve estar em primeiro lugar, uma economia saudável e auto financiável de valorização do povo que paga a maior carga de tributos no Brasil.\\n\\nNão é populismo, não é demagogia, não é sensacionalismo. \\n\\nVamos comprovar! 👊\\n\\nhttps://t.co/Plbr6AiREb', 180, 654, '2020-09-25', '19:45:24'], ['AndreJanonesAdv', 'Se tenho medo das ameaças ? Claro que tenho, afinal, não sou super herói! Sei que estou mexendo com gente muito poderosa, mas o que eu não deixo, é que esse medo me trave!\\n\\nContinuo em frente, pois sei o Deus que me guardada é muito mais poderoso do que eles\\n\\nQue Ele nos abençoe https://t.co/KRiDao6ikO', 288, 1561, '2020-09-25', '12:32:04'], ['DeputadaAngela', 'Um abraço especial para os moradores da acolhedora e próspera São Bento do Sul, que hoje completa 147 anos. Cidade que orgulha SC e é exemplo para o Brasil pela pujança, empreendedorismo e trabalho que marcam a história de sua gente.\\n\\n📷https://t.co/vO08XkuJta https://t.co/BwSxllnEIU', 0, 4, '2020-09-23', '13:17:14'], ['DeputadaAngela', 'Que a Primavera, com sua alegria e suas cores, possa tornar mais leve as nossas vidas nesse momento difícil pelo qual passamos.\\n⚘🙏 https://t.co/Z8etKjQuVe', 1, 16, '2020-09-22', '11:20:08'], ['ArnaldoJardim', 'Câmara: frente da Agropecuária defende equilíbrio entre produtividade e preservação ambiental https://t.co/uMIyVJ4B3V', 0, 2, '2020-09-25', '12:47:41'], ['ArnaldoJardim', 'Recuperação Judicial no Agronegócio https://t.co/7yh3oE6JbI via @YouTube', 0, 0, '2020-09-25', '12:43:15'], ['adrianodobaldy', 'Na Câmara, aprovamos socorro financeiro para esportistas durante pandemia. O projeto prevê auxílio emergencial aos profissionais autônomos da educação física e aos vinculados a clube ou entidade esportiva.\\n\\nhttps://t.co/2AUEmKDyNq', 0, 0, '2020-09-24', '21:53:39'], ['adrianodobaldy', '#CâmaradosDeputados| Aprovamos alterações no Código de Trânsito, agora a carteira de motorista terá validade de dez anos para condutores com até 50 anos de idade. O texto seguirá para sanção do presidente da República.', 0, 0, '2020-09-22', '21:00:32'], ['AfonsoFlorence', 'O Bolsa Família, nos governos petistas, promoveu a transferência de renda para 14 milhões de famílias. https://t.co/6eEycQg4g6', 2, 6, '2020-09-25', '16:14:00'], ['AfonsoFlorence', 'Votação da MP 1000 para garantir a permanência do auxílio emergencial de R$ 600,00 reais. https://t.co/SudMfoMOSL', 2, 3, '2020-09-24', '18:20:25'], ['DepAfonsoHamm', 'Viva a nossa cultura, nossa história, nossos valores! \\n\\nVIVA O 20 DE SETEMBRO, GAUCHADA!\\n#20desetembro #diadogaucho', 0, 5, '2020-09-20', '10:11:44'], ['DepAfonsoHamm', 'Lutar por liberdade, portanto, está no nosso sangue, na nossa alma. Vivemos novamente tempos difíceis, mas não há adversidade que assuste um bom gaúcho. \\n\\nQue em breve possamos tomar um mate juntos, assar uma boa carne e voltar encher as ruas de nossos municípios de cavalarianos.', 0, 6, '2020-09-20', '10:11:34'], ['depaguinaldo11', 'Os municípios brasileiros representam a ponta de toda a cadeia de arrecadação. A nossa proposta tem o objetivo de tornar o sistema mais transparente e mais simples para que os recursos sejam empregados, de fato, em melhorias para a população. #TrabalhoPraValer #LiderDeVerdade', 1, 8, '2020-09-17', '16:09:24'], ['depaguinaldo11', 'Acompanhe logo mais a reunião da Comissão Mista da Reforma Tributária. Vamos conversar com os presidentes da FNP e da Abrasf, Jonas Donizzete e Vitor Puppi, para alinharmos as expectativas quanto ao projeto da reforma. https://t.co/c6TikqUSp6', 1, 8, '2020-09-17', '16:09:03'], ['FaleiroAirton', 'RT @BetoFaroPT: Lula triplicou o orçamento da Educação. Bolsonaro quer tirar R$ 2 bilhões do Ministério da Educação para dar aos bancos e e…', 108, 0, '2020-09-25', '20:43:54'], ['FaleiroAirton', 'RT @AlencarBraga13: A onda de extrema-direita que varre o Brasil desde 2016 elegeu os piores gestores públicos em 35 anos de redemocratizaç…', 136, 0, '2020-09-24', '21:05:33'], ['Alceu_Moreira', 'A tecnologia no campo é de suma importância para seguirmos batendo recordes no #Agro, aumentando a competitividade do setor e aperfeiçoarmos cada vez mais nossa produtividade. #AgroForte #BrasilForte #Tecnologia #FPA @fpagropecuaria \\nhttps://t.co/3QoLcPQt6B', 0, 4, '2020-09-25', '20:14:24'], ['Alceu_Moreira', 'O #Agro vem mostrando sua potência e importância para a economia do país. Mesmo diante da pandemia o setor vem apresentando constantemente mais oportunidades e garantindo segurança e abastecimento alimentar para milhões de brasileiros. @fpagropecuaria \\nhttps://t.co/NScIb73dr0', 4, 10, '2020-09-25', '18:09:46'], ['AlencarBraga13', 'Dilma Rousseff dá aula em defesa do patrimônio público no País\\n\\n\"Estão na pauta da destruição os funcionários públicos e as estatais brasileiras” - @dilmabr \\n\\nhttps://t.co/48YfayRsZa via @PTnaCamara', 9, 16, '2020-09-25', '21:00:01'], ['AlencarBraga13', 'O @rsallesmma já deveria estar fora do governo, mas lobista do agronegócio combina bem com miliciano, então terá que se explicar na Câmara\\n\\n\"Salles será convocado para explicar falta de ação do governo no combate às queimadas no Pantanal\"\\n\\nhttps://t.co/zV5T9T28Zb via @PTnaCamara', 2, 4, '2020-09-25', '20:00:00'], ['alessandromolon', 'Estendemos a fase de consulta do Nossa Escolha até o dia 30/09! Acesse https://t.co/04XpytK3VA e ajude a decidir quais áreas devem receber recursos pelas emendas do nosso mandato. Você também pode enviar um projeto específico que gostaria que fosse financiado. Acesse e participe!', 10, 31, '2020-09-25', '20:03:08'], ['alessandromolon', 'Como bem nos lembrou o Papa Francisco, esta \"crise ambiental é intimamente ligada à crise social\". Precisamos fazer a transição desse modelo cinza, que destrói e exclui, para um verde, com justiça social e desenvolvimento sustentável! \\nhttps://t.co/Kjg4ziV5xo', 60, 383, '2020-09-25', '17:55:21'], ['lexandreleite', 'Será que aprenderam a trabalhar finalmente? @RicardoBarrosPP ajude a colocar ordem amigo, falar menos e trabalhar mais, ajuda muito mais que uma coletiva, parabéns e boa sorte. Abraço! https://t.co/qV2hXjpxmo', 0, 0, '2020-09-25', '03:41:42']]\n"
     ]
    }
   ],
   "source": [
    "import tweepy as tw\n",
    "import time\n",
    "import gspread\n",
    "from oauth2client.service_account import ServiceAccountCredentials\n",
    "\n",
    "deputados = [[\"@abou_anni\", \"@AcacioFavacho\", \"@AdolfoViana_\", \"@adrianasounovo\", \"@adrianodobaldy\", \"@AecioNeves\", \n",
    "             \"@AfonsoFlorence\", \"@DepAfonsoHamm\", \"@afonso_motta\", \"@depaguinaldo11\", \"@FaleiroAirton\", \"@Alan_Rick\", \n",
    "             \"@Alceu_Moreira\", \"@oficialalesilva\", \"@AlencarBraga13\", \"@alessandromolon\", \"@AlexManentePPS\", \n",
    "             \"@depalexsantana\", \"@alefrotabrasil\", \"@lexandreleite\"], \n",
    "            [\"@padilhando\", \"@AleSerfiotis\", \"@AlexisFonteyne\", \"@Alice_Portugal\", \"@alielmachado\", \n",
    "             \"@dep_alinegurgel\", \"@AlineSleutjes\", \"@Altineu\", \"@AluisioMendesMA\", \"@amaronetotv\", \n",
    "             \"@aferreira2020\", \"@andrepdt12\", \"@DepAndreFufuca\", \"@AndreJanonesAdv\", \"@DeputadaAngela\", \n",
    "             \"@AntonioBrito_\", \"@achinaglia\", \"@ArnaldoJardim\", \"@aroldomartins\", \"@ArthurLira_\", \"@DepArthurMaia\"]]\n",
    "            \n",
    "\n",
    "\n",
    "class TwitterData():\n",
    "\n",
    "    #ATRIBUTOS DA CLASSE(KEYS PARA CONSEGUIR OS DADOS DO TWITTER)\n",
    "    def __init__(self):\n",
    "        consumer_key = 'D7CowpO9FOwoigwClR8k2MN9E'\n",
    "        consumer_secret = 'Oc866wtthIiOUV1iksTK7n14mEeKHUgwavJzCKP8gTMyQBKFr1'\n",
    "        access_token = '1542145388-xodgfVEv8WrOHNAKYtpmPUghD0nDvy5G6HTBi7P'\n",
    "        access_token_secret = 'w9ljBnC99rES8lT2xT50r6VIhAKl9940NkAe2Md0V3lbj'\n",
    "        tabela_mestre = []\n",
    "        self.consumer_key = consumer_key\n",
    "        self.consumer_secret = consumer_secret\n",
    "        self.access_token = access_token\n",
    "        self.access_token_secret = access_token_secret\n",
    "        self.tabela_mestre = tabela_mestre\n",
    "    \n",
    "    \n",
    "    # METHOD DE AUTENTICAÇÃO NO TWITTER\n",
    "    def get_auth(self):\n",
    "        auth = tw.OAuthHandler(self.consumer_key, self.consumer_secret)\n",
    "        auth.set_access_token(self.access_token, self.access_token_secret)\n",
    "        api = tw.API(auth, wait_on_rate_limit=True)\n",
    "        return api\n",
    "\n",
    "    # CÓDIGO QUE ENTRAR NO TWITTER\n",
    "    def get_data_tabela_mestre(self):\n",
    "        api_acess = self.get_auth()\n",
    "        for item in reversed(range(len(deputados))):\n",
    "            user = deputados[item]\n",
    "            for x in range(len(user)):\n",
    "                tweets = tw.Cursor(api_acess.search, q=\"from:\" + user[x], lang=\"pt\", tweet_mode='extended').items(2)\n",
    "\n",
    "                users_locs = [[tweet.user.screen_name, tweet.full_text, tweet.retweet_count, tweet.favorite_count,\n",
    "                       str(tweet.created_at)[0:10], str(tweet.created_at)[11:19]] for tweet in tweets]\n",
    "                self.tabela_mestre += users_locs\n",
    "        print(self.tabela_mestre)\n",
    "# PRINT TESTE\n",
    "twitter = TwitterData()\n",
    "twitter.get_data_tabela_mestre()\n",
    "\n",
    "\n",
    "\n",
    "        "
   ]
  },
  {
   "cell_type": "code",
   "execution_count": 2,
   "metadata": {},
   "outputs": [],
   "source": [
    "class GoogleSheetData(TwitterData):\n",
    "    \n",
    "    def __init__(self):\n",
    "        TwitterData.__init__(self)\n",
    "        scope = ['https://www.googleapis.com/auth/spreadsheets', 'https://www.googleapis.com/auth/drive.file',\n",
    "             \"https://www.googleapis.com/auth/drive\"]\n",
    "        self.scope = scope\n",
    "              \n",
    "    def authentication(self):\n",
    "        \n",
    "        creds = ServiceAccountCredentials.from_json_keyfile_name('client_secret.json', self.scope)\n",
    "        client = gspread.authorize(creds)\n",
    "        sheet1 = client.open('Testeclasses').worksheet(\"page1\")\n",
    "        return sheet1\n",
    "        \n",
    "    def export_data_googlesheet(self):\n",
    "        for x in range(len(twitter.tabela_mestre)):\n",
    "            acess = self.authentication()\n",
    "            acess.insert_row(twitter.tabela_mestre[x], 2)\n",
    "        \n",
    "\n",
    "googlesheet = GoogleSheetData()\n",
    "googlesheet.export_data_googlesheet()\n",
    "      "
   ]
  },
  {
   "cell_type": "code",
   "execution_count": null,
   "metadata": {},
   "outputs": [],
   "source": []
  }
 ],
 "metadata": {
  "kernelspec": {
   "display_name": "Python 3",
   "language": "python",
   "name": "python3"
  },
  "language_info": {
   "codemirror_mode": {
    "name": "ipython",
    "version": 3
   },
   "file_extension": ".py",
   "mimetype": "text/x-python",
   "name": "python",
   "nbconvert_exporter": "python",
   "pygments_lexer": "ipython3",
   "version": "3.8.5"
  }
 },
 "nbformat": 4,
 "nbformat_minor": 4
}
