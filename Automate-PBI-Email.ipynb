{
 "cells": [
  {
   "cell_type": "code",
   "execution_count": 2,
   "metadata": {},
   "outputs": [],
   "source": [
    "import os\n",
    "import pyautogui\n",
    "import time\n",
    "import smtplib\n",
    "from email.mime.multipart import MIMEMultipart \n",
    "from email.mime.text import MIMEText \n",
    "from email.mime.base import MIMEBase \n",
    "from email import encoders \n",
    "from datetime import date\n",
    "import datetime"
   ]
  },
  {
   "cell_type": "code",
   "execution_count": 10,
   "metadata": {},
   "outputs": [
    {
     "ename": "KeyboardInterrupt",
     "evalue": "",
     "output_type": "error",
     "traceback": [
      "\u001b[1;31m---------------------------------------------------------------------------\u001b[0m",
      "\u001b[1;31mKeyboardInterrupt\u001b[0m                         Traceback (most recent call last)",
      "\u001b[1;32m<ipython-input-10-31195a11d1a6>\u001b[0m in \u001b[0;36m<module>\u001b[1;34m\u001b[0m\n\u001b[0;32m     25\u001b[0m \u001b[1;31m#clica no export as pdf\u001b[0m\u001b[1;33m\u001b[0m\u001b[1;33m\u001b[0m\u001b[1;33m\u001b[0m\u001b[0m\n\u001b[0;32m     26\u001b[0m \u001b[0mpyautogui\u001b[0m\u001b[1;33m.\u001b[0m\u001b[0mclick\u001b[0m\u001b[1;33m(\u001b[0m\u001b[1;36m400\u001b[0m\u001b[1;33m,\u001b[0m \u001b[1;36m230\u001b[0m\u001b[1;33m)\u001b[0m\u001b[1;33m\u001b[0m\u001b[1;33m\u001b[0m\u001b[0m\n\u001b[1;32m---> 27\u001b[1;33m \u001b[0mtime\u001b[0m\u001b[1;33m.\u001b[0m\u001b[0msleep\u001b[0m\u001b[1;33m(\u001b[0m\u001b[1;36m30\u001b[0m\u001b[1;33m)\u001b[0m\u001b[1;33m\u001b[0m\u001b[1;33m\u001b[0m\u001b[0m\n\u001b[0m\u001b[0;32m     28\u001b[0m \u001b[1;31m#clica para fechar o pdf\u001b[0m\u001b[1;33m\u001b[0m\u001b[1;33m\u001b[0m\u001b[1;33m\u001b[0m\u001b[0m\n\u001b[0;32m     29\u001b[0m \u001b[0mpyautogui\u001b[0m\u001b[1;33m.\u001b[0m\u001b[0mclick\u001b[0m\u001b[1;33m(\u001b[0m\u001b[1;36m1890\u001b[0m\u001b[1;33m,\u001b[0m \u001b[1;36m10\u001b[0m\u001b[1;33m)\u001b[0m\u001b[1;33m\u001b[0m\u001b[1;33m\u001b[0m\u001b[0m\n",
      "\u001b[1;31mKeyboardInterrupt\u001b[0m: "
     ]
    }
   ],
   "source": [
    "#abre arquivo\n",
    "os.startfile(\"TT_Deputados.pbix\")\n",
    "time.sleep(15)\n",
    "#seleciona barra de tarefas\n",
    "pyautogui.moveTo(900, 1050)\n",
    "time.sleep(3) \n",
    "#seleciona arquivo\n",
    "pyautogui.moveRel(0, -10)  # move mouse 10 pixels down\n",
    "time.sleep(5)\n",
    "#clica na janela aberta\n",
    "pyautogui.click(900, 1000)  # move mouse 10 pixels down\n",
    "time.sleep(10) \n",
    "#dando enable no pbi\n",
    "pyautogui.click(1000, 590)\n",
    "time.sleep(5) \n",
    "#atualiza\n",
    "pyautogui.click(670, 110)\n",
    "time.sleep(120)\n",
    "#clica no file\n",
    "pyautogui.click(50, 50)\n",
    "time.sleep(5)\n",
    "#clica no export\n",
    "pyautogui.click(50, 370)\n",
    "time.sleep(3)\n",
    "#clica no export as pdf\n",
    "pyautogui.click(400, 230)\n",
    "time.sleep(30)\n",
    "#clica para fechar o pdf\n",
    "pyautogui.click(1890, 10)\n",
    "time.sleep(3)\n",
    "#clica para fechar o pbi\n",
    "pyautogui.click(1890, 10)\n",
    "time.sleep(3)\n",
    "#clica para salvar o pbi\n",
    "pyautogui.click(1000, 560)\n",
    "time.sleep(3)\n",
    "\n",
    "print(\"PDF Feito e Salvo\")\n",
    "\n",
    "#PARA ENVIAR PARA O MEU EMAIL\n",
    "\n",
    "fromaddr = \"autrmllucena@gmail.com\"\n",
    "toaddr = \"rmllucena@gmail.com\"\n",
    "   \n",
    "# instance of MIMEMultipart \n",
    "msg = MIMEMultipart() \n",
    "  \n",
    "# storing the senders email address   \n",
    "msg['From'] = fromaddr \n",
    "  \n",
    "# storing the receivers email address  \n",
    "msg['To'] = toaddr \n",
    "\n",
    "data_atual = date.today()\n",
    "\n",
    "# storing the subject  \n",
    "msg['Subject'] = \"TT_Deputados-{}\".format(data_atual)\n",
    "  \n",
    "# string to store the body of the mail \n",
    "body = \"Teste\"\n",
    "  \n",
    "# attach the body with the msg instance \n",
    "msg.attach(MIMEText(body, 'plain')) \n",
    "  \n",
    "# open the file to be sent  \n",
    "filename = \"TT_Deputados.pdf\"\n",
    "attachment = open(r\"C:\\Users\\Romulo\\AppData\\Local\\Temp\\Power BI Desktop\\print-job-4c7e5cde-38d2-4c08-b4c8-db89c09f5728\\\\TT_Deputados.pdf\",\n",
    "                  \"rb\") \n",
    "  \n",
    "# instance of MIMEBase and named as p \n",
    "p = MIMEBase('application', 'octet-stream') \n",
    "  \n",
    "# To change the payload into encoded form \n",
    "p.set_payload((attachment).read()) \n",
    "  \n",
    "# encode into base64 \n",
    "encoders.encode_base64(p) \n",
    "   \n",
    "p.add_header('Content-Disposition', \"attachment; filename= %s\" % filename) \n",
    "  \n",
    "# attach the instance 'p' to instance 'msg' \n",
    "msg.attach(p) \n",
    "  \n",
    "# creates SMTP session \n",
    "s = smtplib.SMTP('smtp.gmail.com', 587) \n",
    "  \n",
    "# start TLS for security \n",
    "s.starttls() \n",
    "  \n",
    "# Authentication \n",
    "s.login(fromaddr, \"auto1989\") \n",
    "  \n",
    "# Converts the Multipart msg into a string \n",
    "text = msg.as_string() \n",
    "  \n",
    "# sending the mail \n",
    "s.sendmail(fromaddr, toaddr, text) \n",
    "  \n",
    "# terminating the session \n",
    "s.quit() \n",
    "\n",
    "print(\"PDF enviado\")"
   ]
  },
  {
   "cell_type": "code",
   "execution_count": 17,
   "metadata": {},
   "outputs": [
    {
     "name": "stdout",
     "output_type": "stream",
     "text": [
      "2020-10-06 - 11:30\n"
     ]
    }
   ],
   "source": [
    "data_atual = date.today()\n",
    "minuto = datetime.datetime.now().minute\n",
    "hora = datetime.datetime.now().hour\n",
    "\n",
    "if minuto < \n",
    "\n",
    "print(\"{} - {}:{}\".format(data_atual,hora,minuto))\n"
   ]
  },
  {
   "cell_type": "code",
   "execution_count": 58,
   "metadata": {},
   "outputs": [],
   "source": [
    "pyautogui.moveTo(950, 1050)\n",
    "pyautogui.moveRel(0, -10)  # move mouse 10 pixels down\n",
    "time.sleep(5)  \n",
    "pyautogui.click(950, 950)\n",
    "time.sleep(5) \n",
    "pyautogui.click(50, 50)\n",
    "time.sleep(3)\n",
    "pyautogui.click(50, 370)\n",
    "time.sleep(3)\n",
    "pyautogui.click(400, 230)"
   ]
  },
  {
   "cell_type": "code",
   "execution_count": 4,
   "metadata": {},
   "outputs": [
    {
     "name": "stdout",
     "output_type": "stream",
     "text": [
      "2020-10-06 - 12:8\n"
     ]
    },
    {
     "data": {
      "text/plain": [
       "(221, b'2.0.0 closing connection j30sm2455369qtb.54 - gsmtp')"
      ]
     },
     "execution_count": 4,
     "metadata": {},
     "output_type": "execute_result"
    }
   ],
   "source": [
    "   \n",
    "fromaddr = \"autrmllucena@gmail.com\"\n",
    "toaddr = \"autrmllucena@gmail.com\"\n",
    "   \n",
    "# instance of MIMEMultipart \n",
    "msg = MIMEMultipart() \n",
    "  \n",
    "# storing the senders email address   \n",
    "msg['From'] = fromaddr \n",
    "  \n",
    "# storing the receivers email address  \n",
    "msg['To'] = toaddr \n",
    "  \n",
    "data_atual = date.today()\n",
    "minuto = datetime.datetime.now().minute\n",
    "hora = datetime.datetime.now().hour\n",
    "print(\"{} - {}:{}\".format(data_atual,hora,minuto))\n",
    "\n",
    "# storing the subject  \n",
    "msg['Subject'] = \"TT_Deputados-{} - {}:{}\".format(data_atual,hora,minuto)\n",
    "  \n",
    "# string to store the body of the mail \n",
    "body = \"Teste\"\n",
    "  \n",
    "# attach the body with the msg instance \n",
    "msg.attach(MIMEText(body, 'plain')) \n",
    "\n",
    "import os\n",
    "output = [dI for dI in os.listdir(\"C:\\\\Users\\\\Romulo\\\\AppData\\\\Local\\\\Temp\\\\Power BI Desktop\\\\\") \n",
    "                                  if os.path.isdir(os.path.join(\"C:\\\\Users\\\\Romulo\\\\AppData\\\\Local\\\\Temp\\\\Power BI Desktop\\\\\",dI))]\n",
    "\n",
    "caminho = []\n",
    "for sub in reversed(output):\n",
    "    if sub[0:3] == \"pri\":\n",
    "        caminho.append(sub)\n",
    "\n",
    "\n",
    "\n",
    "# open the file to be sent  \n",
    "filename = \"TT_Deputados.pdf\"\n",
    "attachment = open(\"C:\\\\Users\\\\Romulo\\\\AppData\\\\Local\\\\Temp\\\\Power BI Desktop\\\\\" + caminho[-1] +\"\\\\TT_Deputados.pdf\",\n",
    "                  \"rb\") \n",
    "  \n",
    "# instance of MIMEBase and named as p \n",
    "p = MIMEBase('application', 'octet-stream') \n",
    "  \n",
    "# To change the payload into encoded form \n",
    "p.set_payload((attachment).read()) \n",
    "  \n",
    "# encode into base64 \n",
    "encoders.encode_base64(p) \n",
    "   \n",
    "p.add_header('Content-Disposition', \"attachment; filename= %s\" % filename) \n",
    "  \n",
    "# attach the instance 'p' to instance 'msg' \n",
    "msg.attach(p) \n",
    "  \n",
    "# creates SMTP session \n",
    "s = smtplib.SMTP('smtp.gmail.com', 587) \n",
    "  \n",
    "# start TLS for security \n",
    "s.starttls() \n",
    "  \n",
    "# Authentication \n",
    "s.login(fromaddr, \"auto1989\") \n",
    "  \n",
    "# Converts the Multipart msg into a string \n",
    "text = msg.as_string() \n",
    "  \n",
    "# sending the mail \n",
    "s.sendmail(fromaddr, toaddr, text) \n",
    "  \n",
    "# terminating the session \n",
    "s.quit() "
   ]
  },
  {
   "cell_type": "code",
   "execution_count": 25,
   "metadata": {},
   "outputs": [],
   "source": [
    "import os\n",
    "output = [dI for dI in os.listdir(\"C:\\\\Users\\\\Romulo\\\\AppData\\\\Local\\\\Temp\\\\Power BI Desktop\\\\\") \n",
    "                                  if os.path.isdir(os.path.join(\"C:\\\\Users\\\\Romulo\\\\AppData\\\\Local\\\\Temp\\\\Power BI Desktop\\\\\",dI))]"
   ]
  },
  {
   "cell_type": "code",
   "execution_count": 36,
   "metadata": {},
   "outputs": [],
   "source": [
    "caminho = []\n",
    "for sub in reversed(output):\n",
    "    if sub[0:3] == \"pri\":\n",
    "        caminho.append(sub)"
   ]
  },
  {
   "cell_type": "code",
   "execution_count": 37,
   "metadata": {},
   "outputs": [
    {
     "name": "stdout",
     "output_type": "stream",
     "text": [
      "print-job-a44e02f1-1198-4e75-81aa-1d5bb6ec4222\n"
     ]
    }
   ],
   "source": [
    "print(caminho[-1])"
   ]
  },
  {
   "cell_type": "code",
   "execution_count": 8,
   "metadata": {},
   "outputs": [],
   "source": []
  },
  {
   "cell_type": "code",
   "execution_count": null,
   "metadata": {},
   "outputs": [],
   "source": []
  }
 ],
 "metadata": {
  "kernelspec": {
   "display_name": "Python 3",
   "language": "python",
   "name": "python3"
  },
  "language_info": {
   "codemirror_mode": {
    "name": "ipython",
    "version": 3
   },
   "file_extension": ".py",
   "mimetype": "text/x-python",
   "name": "python",
   "nbconvert_exporter": "python",
   "pygments_lexer": "ipython3",
   "version": "3.8.5"
  }
 },
 "nbformat": 4,
 "nbformat_minor": 4
}
