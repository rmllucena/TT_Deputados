{
 "cells": [
  {
   "cell_type": "code",
   "execution_count": 2,
   "id": "buried-phenomenon",
   "metadata": {},
   "outputs": [],
   "source": [
    "import numpy as np\n",
    "import sklearn\n",
    "from sklearn.feature_extraction.text import CountVectorizer"
   ]
  },
  {
   "cell_type": "code",
   "execution_count": null,
   "id": "painful-carnival",
   "metadata": {},
   "outputs": [],
   "source": []
  },
  {
   "cell_type": "code",
   "execution_count": null,
   "id": "gross-baltimore",
   "metadata": {},
   "outputs": [],
   "source": [
    "texto_a_ser_comparado = \"Suponha que seja o texto que desejo comparar\"\n",
    "texto_fonte = \"Suponha que essa seja o texto principal\"\n",
    "\n",
    "#Numero de n gramas\n",
    "n = 1\n",
    "\n",
    "#Instancia a contador de na gramas"
   ]
  }
 ],
 "metadata": {
  "kernelspec": {
   "display_name": "Python 3",
   "language": "python",
   "name": "python3"
  },
  "language_info": {
   "codemirror_mode": {
    "name": "ipython",
    "version": 3
   },
   "file_extension": ".py",
   "mimetype": "text/x-python",
   "name": "python",
   "nbconvert_exporter": "python",
   "pygments_lexer": "ipython3",
   "version": "3.9.2"
  }
 },
 "nbformat": 4,
 "nbformat_minor": 5
}
