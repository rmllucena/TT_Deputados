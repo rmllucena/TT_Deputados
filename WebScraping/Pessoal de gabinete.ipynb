{
 "cells": [
  {
   "cell_type": "code",
   "execution_count": 167,
   "metadata": {},
   "outputs": [],
   "source": [
    "import time\n",
    "import requests\n",
    "import pandas as pd\n",
    "from bs4 import BeautifulSoup\n",
    "from selenium import webdriver\n",
    "from selenium.webdriver.chrome.options import Options\n",
    "from pandas import DataFrame"
   ]
  },
  {
   "cell_type": "code",
   "execution_count": 1,
   "metadata": {},
   "outputs": [],
   "source": [
    "dadosdeputados = [[\"Abou Anni\",\"204521\"], [\"Acácio Favacho\",\"204379\"], [\"Adolfo Viana\",\"204560\"], [\"Adriana Ventura\",\"204528\"], [\"Adriano do Baldy\",\"121948\"], [\"Aécio Neves\",\"74646\"]]"
   ]
  },
  {
   "cell_type": "code",
   "execution_count": 169,
   "metadata": {},
   "outputs": [],
   "source": [
    "\n",
    "link = \"https://www.camara.leg.br/deputados/204457/pessoal-gabinete?ano=2020\"\n"
   ]
  },
  {
   "cell_type": "code",
   "execution_count": 200,
   "metadata": {},
   "outputs": [
    {
     "name": "stdout",
     "output_type": "stream",
     "text": [
      "['https://www.camara.leg.br/transparencia/recursos-humanos/remuneracao/DwW6ymB7GWwJqDYVE35r', 'https://www.camara.leg.br/transparencia/recursos-humanos/remuneracao/DwW6ymB7QbrQ49YVE35r', 'https://www.camara.leg.br/transparencia/recursos-humanos/remuneracao/DwW6ymB7QbJeRDYVE35r', 'https://www.camara.leg.br/transparencia/recursos-humanos/remuneracao/DwW6ymB7Dl1EK7YVE35r', 'https://www.camara.leg.br/transparencia/recursos-humanos/remuneracao/DwW6ymBKPKkrpKYVE35r', 'https://www.camara.leg.br/transparencia/recursos-humanos/remuneracao/DwW6ymB7QEJpvWYVE35r', 'https://www.camara.leg.br/transparencia/recursos-humanos/remuneracao/DwW6ymB7ePxKk2YVE35r', 'https://www.camara.leg.br/transparencia/recursos-humanos/remuneracao/DwW6ymB751wOW7YVE35r', 'https://www.camara.leg.br/transparencia/recursos-humanos/remuneracao/DwW6ymB7Q6yq93YVE35r', 'https://www.camara.leg.br/transparencia/recursos-humanos/remuneracao/DwW6ymB7JgzW37YVE35r', 'https://www.camara.leg.br/transparencia/recursos-humanos/remuneracao/DwW6ymBb9beB69mVE35r', 'https://www.camara.leg.br/transparencia/recursos-humanos/remuneracao/DwW6ymBW85J7DyYVE35r', 'https://www.camara.leg.br/transparencia/recursos-humanos/remuneracao/DwW6ymBEb50PkXMVE35r', 'https://www.camara.leg.br/transparencia/recursos-humanos/remuneracao/DwW6ymBbOl5zXymVE35r', 'https://www.camara.leg.br/transparencia/recursos-humanos/remuneracao/DwW6ymB4dnrEgwAVE35r', 'https://www.camara.leg.br/transparencia/recursos-humanos/remuneracao/DwW6ymBWKBrEWyYVE35r', 'https://www.camara.leg.br/transparencia/recursos-humanos/remuneracao/DwW6ymBbzEw8aKmVE35r', 'https://www.camara.leg.br/transparencia/recursos-humanos/remuneracao/DwW6ymB7qQXnEKYVE35r', 'https://www.camara.leg.br/transparencia/recursos-humanos/remuneracao/DwW6ymB7E02RqDYVE35r', 'https://www.camara.leg.br/transparencia/recursos-humanos/remuneracao/DwW6ymB7kXKq09YVE35r', 'https://www.camara.leg.br/transparencia/recursos-humanos/remuneracao/DwW6ymB7qn8E5BYVE35r', 'https://www.camara.leg.br/transparencia/recursos-humanos/remuneracao/DwW6ymB7QE62wyYVE35r', 'https://www.camara.leg.br/transparencia/recursos-humanos/remuneracao/DwW6ymB7QVkzy3YVE35r', 'https://www.camara.leg.br/transparencia/recursos-humanos/remuneracao/DwW6ymB7GWwJqDYVE35r', 'https://www.camara.leg.br/transparencia/recursos-humanos/remuneracao/DwW6ymBEb50PkXMVE35r', 'https://www.camara.leg.br/transparencia/recursos-humanos/remuneracao/DwW6ymBWKBrEWyYVE35r', 'https://www.camara.leg.br/transparencia/recursos-humanos/remuneracao/DwW6ymBWKBrEWyYVE35r', 'https://www.camara.leg.br/transparencia/recursos-humanos/remuneracao/DwW6ymBWKBrEWyYVE35r']\n",
      "Juninho do Pneu\n"
     ]
    }
   ],
   "source": [
    "option = webdriver.ChromeOptions()\n",
    "option.add_argument('headless') \n",
    "option.add_argument(\"enable-automation\");\n",
    "option.add_argument(\"--window-size=1920,1080\");\n",
    "option.add_argument(\"--no-sandbox\");\n",
    "option.add_argument(\"--disable-extensions\");\n",
    "option.add_argument(\"--dns-prefetch-disable\");\n",
    "option.add_argument(\"--disable-gpu\");\n",
    "driver = webdriver.Chrome(\"C:\\WebDriver/chromedriver.exe\",options=option)\n",
    "driver.get(link)\n",
    "\n",
    "\n",
    "\n",
    "\n",
    "\n",
    "\n",
    "element = driver.find_element_by_xpath(\n",
    "                \"//div[@class='mm-page mm-slideout']\")\n",
    "\n",
    "html_content = element.get_attribute(\"outerHTML\")\n",
    "\n",
    "soup = BeautifulSoup(html_content,'html.parser')\n",
    "\n",
    "\n",
    "table = soup.find_all(class_='table table-striped table-bordered table-responsive-lg')\n",
    "\n",
    "\n",
    "nome = str(soup.select('h1.titulo-internal'))[30:-6].strip()\n",
    "\n",
    "\n",
    "    \n",
    "#PEGANDO LINKS DA TABLE DE PESSOAL DO GABINETE    \n",
    "paragraphs = []\n",
    "for x in table:\n",
    "    paragraphs.append(str(x).split())\n",
    "\n",
    "\n",
    "linkorçamento = []\n",
    "for x in range(len(paragraphs)):\n",
    "    for y in range(len(paragraphs[x])):\n",
    "        if paragraphs[x][y][0:4] == \"href\":\n",
    "            \n",
    "            linkorçamento.append(paragraphs[x][y][6:-14])\n",
    "        else:\n",
    "            pass\n",
    "\n",
    "print(linkorçamento)\n",
    "print(nome)"
   ]
  },
  {
   "cell_type": "code",
   "execution_count": 159,
   "metadata": {},
   "outputs": [],
   "source": [
    "linkFuncionario = \"https://www.camara.leg.br/transparencia/recursos-humanos/remuneracao/DwW6ymB7kXKq09YVE35r?ano=2020&mes=9#\""
   ]
  },
  {
   "cell_type": "code",
   "execution_count": 160,
   "metadata": {},
   "outputs": [],
   "source": []
  },
  {
   "cell_type": "code",
   "execution_count": 199,
   "metadata": {},
   "outputs": [
    {
     "name": "stdout",
     "output_type": "stream",
     "text": [
      "[['THIAGO DE SOUZA PEREIRA', '9', 'Remuneração Fixa', '0'], ['THIAGO DE SOUZA PEREIRA', '9', 'Vantagens de Natureza Pessoal', '0'], ['THIAGO DE SOUZA PEREIRA', '9', 'Função ou Cargo em Comissão', '15.698,32'], ['THIAGO DE SOUZA PEREIRA', '9', 'Gratificação Natalina', '0'], ['THIAGO DE SOUZA PEREIRA', '9', 'Férias (1/3 Constitucional)', '0'], ['THIAGO DE SOUZA PEREIRA', '9', 'Outras Remunerações Eventuais/Provisórias(*)', '0'], ['THIAGO DE SOUZA PEREIRA', '9', 'Abono Permanência', '0'], ['THIAGO DE SOUZA PEREIRA', '9', 'Redutor Constitucional', '0'], ['THIAGO DE SOUZA PEREIRA', '9', 'Contribuição Previdenciária', '-713,10'], ['THIAGO DE SOUZA PEREIRA', '9', 'Imposto de Renda', '-3.199,44'], ['THIAGO DE SOUZA PEREIRA', '9', 'Remuneração após Descontos Obrigatórios', '11.785,78'], ['THIAGO DE SOUZA PEREIRA', '9', 'Diárias', '0'], ['THIAGO DE SOUZA PEREIRA', '9', 'Auxílios', '1.808,20'], ['THIAGO DE SOUZA PEREIRA', '9', 'Vantagens Indenizatórias', '0']]\n"
     ]
    }
   ],
   "source": [
    "option = webdriver.ChromeOptions()\n",
    "option.add_argument('headless') \n",
    "option.add_argument(\"enable-automation\");\n",
    "option.add_argument(\"--window-size=1920,1080\");\n",
    "option.add_argument(\"--no-sandbox\");\n",
    "option.add_argument(\"--disable-extensions\");\n",
    "option.add_argument(\"--dns-prefetch-disable\");\n",
    "option.add_argument(\"--disable-gpu\");\n",
    "driver = webdriver.Chrome(\"C:\\WebDriver/chromedriver.exe\",options=option)\n",
    "driver.get(linkFuncionario)\n",
    "\n",
    "\n",
    "\n",
    "\n",
    "\n",
    "\n",
    "\n",
    "elementFuncionario = driver.find_element_by_xpath(\n",
    "                \"//div[@class='conteiner-remuneracao-funcionario']\")\n",
    "html_contentFuncionario = elementFuncionario.get_attribute(\"outerHTML\")\n",
    "\n",
    "soupFuncionario = BeautifulSoup(html_contentFuncionario,'html.parser')\n",
    "\n",
    "\n",
    "nomefuncionario = str(soupFuncionario.select('h2.remuneracao-funcionario__nome'))[43:-6].strip()\n",
    "\n",
    "\n",
    "\n",
    "\n",
    "\n",
    "tableFuncionario = soupFuncionario.find('table', { 'class' : 'tabela-responsiva tabela-responsiva--remuneracao-funcionario' })\n",
    "\n",
    "#print(classes)\n",
    "\n",
    "classes1 = soupFuncionario.find_all(\"td\",  {\"class\":\"tabela-responsiva__coluna tabela-responsiva__coluna--1\"})\n",
    "classes2 = soupFuncionario.find_all(\"td\",  {\"class\":\"tabela-responsiva__coluna--2\"})\n",
    "Remuneração = []\n",
    "\n",
    "for x in range(len(classes1)):\n",
    "    Remuneração.append([nomefuncionario,linkFuncionario[103:-1],str(classes1[x])[101:-5],str(classes2[x])[96:-5]])\n",
    "print(Remuneração)"
   ]
  },
  {
   "cell_type": "code",
   "execution_count": 192,
   "metadata": {},
   "outputs": [
    {
     "name": "stdout",
     "output_type": "stream",
     "text": [
      "[]\n"
     ]
    }
   ],
   "source": [
    "print(nomefuncionario)"
   ]
  },
  {
   "cell_type": "code",
   "execution_count": null,
   "metadata": {},
   "outputs": [],
   "source": [
    "dadosfuncionario = str(soupFuncionario.select('h2.remuneracao-funcionario__nome'))[43:-6].strip()"
   ]
  },
  {
   "cell_type": "code",
   "execution_count": null,
   "metadata": {},
   "outputs": [],
   "source": [
    "dfgabinete = "
   ]
  },
  {
   "cell_type": "code",
   "execution_count": null,
   "metadata": {},
   "outputs": [],
   "source": []
  },
  {
   "cell_type": "code",
   "execution_count": null,
   "metadata": {},
   "outputs": [],
   "source": []
  },
  {
   "cell_type": "code",
   "execution_count": null,
   "metadata": {},
   "outputs": [],
   "source": [
    "\n",
    "        "
   ]
  },
  {
   "cell_type": "code",
   "execution_count": null,
   "metadata": {},
   "outputs": [],
   "source": []
  },
  {
   "cell_type": "code",
   "execution_count": null,
   "metadata": {},
   "outputs": [],
   "source": []
  }
 ],
 "metadata": {
  "kernelspec": {
   "display_name": "Python 3",
   "language": "python",
   "name": "python3"
  },
  "language_info": {
   "codemirror_mode": {
    "name": "ipython",
    "version": 3
   },
   "file_extension": ".py",
   "mimetype": "text/x-python",
   "name": "python",
   "nbconvert_exporter": "python",
   "pygments_lexer": "ipython3",
   "version": "3.8.5"
  }
 },
 "nbformat": 4,
 "nbformat_minor": 4
}
