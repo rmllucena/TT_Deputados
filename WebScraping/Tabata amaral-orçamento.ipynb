{
 "cells": [
  {
   "cell_type": "code",
   "execution_count": 1,
   "metadata": {},
   "outputs": [],
   "source": [
    "import time\n",
    "import requests\n",
    "import pandas as pd\n",
    "from bs4 import BeautifulSoup\n",
    "from selenium import webdriver\n",
    "from selenium.webdriver.chrome.options import Options\n",
    "from pandas import DataFrame"
   ]
  },
  {
   "cell_type": "code",
   "execution_count": 2,
   "metadata": {},
   "outputs": [],
   "source": [
    "url = \"https://www.camara.leg.br/cota-parlamentar/sumarizado?nuDeputadoId=3208&dataInicio=1/2020&dataFim=1/2020&despesa=&nomeHospede=&nomePassageiro=&nomeFornecedor=&cnpjFornecedor=&numDocumento=&sguf=&filtroNivel1=1&filtroNivel2=2&filtroNivel3=3\""
   ]
  },
  {
   "cell_type": "code",
   "execution_count": 4,
   "metadata": {},
   "outputs": [],
   "source": [
    "option = Options()\n",
    "option.headless = True\n",
    "driver = webdriver.Chrome(\"C:\\WebDriver/chromedriver.exe\")\n",
    "driver.get(url)\n",
    "driver.find_element_by_xpath(\n",
    "    \"//div[@class='coluna-centro col-md-9']\")\n",
    "element = driver.find_element_by_xpath(\n",
    "    \"//div[@class='coluna-centro col-md-9']\")\n",
    "\n",
    "html_content = element.get_attribute(\"outerHTML\")\n",
    "\n",
    "soup = BeautifulSoup(html_content,'html.parser')\n",
    "\n"
   ]
  },
  {
   "cell_type": "code",
   "execution_count": 5,
   "metadata": {},
   "outputs": [
    {
     "name": "stdout",
     "output_type": "stream",
     "text": [
      "<div class=\"coluna-centro col-md-9\">\n",
      "<div id=\"portal-column-content\">\n",
      "<script async=\"\" src=\"//s7.addthis.com/js/300/addthis_widget.js#pubid=ra-4e53e72f77518078\" type=\"text/javascript\"></script><div class=\"row\" id=\"content\">\n",
      "<a id=\"documentContent\" name=\"documentContent\"></a>\n",
      "<h1 class=\"documentFirstHeading\" id=\"parent-fieldname-title\">Resultado da pesquisa</h1>\n",
      "<div id=\"content-core\">\n",
      "<p>Exibindo despesa(s) agrupada(s) por <strong>Deputado/Liderança</strong> por <strong>Mês/Ano</strong> e <strong>Tipo de Despesa</strong>.</p>\n",
      "<div class=\"sessionBox gradient\">\n",
      "<h3 class=\"header\">\n",
      "\t\t\t\tDeputado(a)/Liderança: \n",
      "\t\t\t\t<a href=\"http://www.camara.leg.br/deputados/204534\" target=\"_blank\">Tabata Amaral </a>\n",
      "\t\t\t\t - PDT/SP</h3>\n",
      "<h3 class=\"header\">Mês/Ano: Janeiro/2020</h3>\n",
      "</div>\n",
      "<!--table.tabela-1>(thead>tr>th*2)+(tbody>tr*4>(td>a[href=\"resultado-3.html\"]>{TIPO})+(td>{1234}))-->\n",
      "<table class=\"tabela-2\">\n",
      "<thead>\n",
      "<tr>\n",
      "<th>Tipo de Despesa</th>\n",
      "<th>Despesa(s)</th>\n",
      "</tr>\n",
      "</thead>\n",
      "<tbody>\n",
      "<tr>\n",
      "<td>\n",
      "<a href=\"/cota-parlamentar/analitico?\n",
      "\t\t\t\t\t\t\t\t\tnuDeputadoId=3208&amp;\n",
      "\t\t\t\t\t\t\t\t\tdataInicio=1/2020&amp;\n",
      "\t\t\t\t\t\t\t\t\tdataFim=1/2020&amp;\n",
      "\t\t\t\t\t\t\t\t\tdespesa=1&amp;\n",
      "\t\t\t\t\t\t\t\t\tnomeHospede=&amp;\n",
      "\t\t\t\t\t\t\t\t\tnomePassageiro=&amp;\n",
      "\t\t\t\t\t\t\t\t\tnomeFornecedor=&amp;\n",
      "\t\t\t\t\t\t\t\t\tcnpjFornecedor=&amp;\n",
      "\t\t\t\t\t\t\t\t\tnumDocumento=&amp;\n",
      "\t\t\t\t\t\t\t\t\tsguf=\" id=\"linkSumarizado0\">\n",
      "\t\t\t\t\t\t\t\t\t\n",
      "\t\t\t\t\t\t\tMANUTENÇÃO DE ESCRITÓRIO DE APOIO À ATIVIDADE PARLAMENTAR</a>\n",
      "</td>\n",
      "<td id=\"sumarizado0\">\n",
      "\t               \t\tR$ 2.598,16</td>\n",
      "</tr>\n",
      "<tr>\n",
      "<td>\n",
      "<a href=\"/cota-parlamentar/analitico?\n",
      "\t\t\t\t\t\t\t\t\tnuDeputadoId=3208&amp;\n",
      "\t\t\t\t\t\t\t\t\tdataInicio=1/2020&amp;\n",
      "\t\t\t\t\t\t\t\t\tdataFim=1/2020&amp;\n",
      "\t\t\t\t\t\t\t\t\tdespesa=10&amp;\n",
      "\t\t\t\t\t\t\t\t\tnomeHospede=&amp;\n",
      "\t\t\t\t\t\t\t\t\tnomePassageiro=&amp;\n",
      "\t\t\t\t\t\t\t\t\tnomeFornecedor=&amp;\n",
      "\t\t\t\t\t\t\t\t\tcnpjFornecedor=&amp;\n",
      "\t\t\t\t\t\t\t\t\tnumDocumento=&amp;\n",
      "\t\t\t\t\t\t\t\t\tsguf=\" id=\"linkSumarizado1\">\n",
      "\t\t\t\t\t\t\t\t\t\n",
      "\t\t\t\t\t\t\tTELEFONIA</a>\n",
      "</td>\n",
      "<td id=\"sumarizado1\">\n",
      "\t               \t\tR$ 222,25</td>\n",
      "</tr>\n",
      "<tr>\n",
      "<td>\n",
      "<a href=\"/cota-parlamentar/analitico?\n",
      "\t\t\t\t\t\t\t\t\tnuDeputadoId=3208&amp;\n",
      "\t\t\t\t\t\t\t\t\tdataInicio=1/2020&amp;\n",
      "\t\t\t\t\t\t\t\t\tdataFim=1/2020&amp;\n",
      "\t\t\t\t\t\t\t\t\tdespesa=11&amp;\n",
      "\t\t\t\t\t\t\t\t\tnomeHospede=&amp;\n",
      "\t\t\t\t\t\t\t\t\tnomePassageiro=&amp;\n",
      "\t\t\t\t\t\t\t\t\tnomeFornecedor=&amp;\n",
      "\t\t\t\t\t\t\t\t\tcnpjFornecedor=&amp;\n",
      "\t\t\t\t\t\t\t\t\tnumDocumento=&amp;\n",
      "\t\t\t\t\t\t\t\t\tsguf=\" id=\"linkSumarizado2\">\n",
      "\t\t\t\t\t\t\t\t\t\n",
      "\t\t\t\t\t\t\tSERVIÇOS POSTAIS</a>\n",
      "</td>\n",
      "<td id=\"sumarizado2\">\n",
      "\t               \t\tR$ 72,30</td>\n",
      "</tr>\n",
      "<tr>\n",
      "<td>\n",
      "<a href=\"/cota-parlamentar/analitico?\n",
      "\t\t\t\t\t\t\t\t\tnuDeputadoId=3208&amp;\n",
      "\t\t\t\t\t\t\t\t\tdataInicio=1/2020&amp;\n",
      "\t\t\t\t\t\t\t\t\tdataFim=1/2020&amp;\n",
      "\t\t\t\t\t\t\t\t\tdespesa=120&amp;\n",
      "\t\t\t\t\t\t\t\t\tnomeHospede=&amp;\n",
      "\t\t\t\t\t\t\t\t\tnomePassageiro=&amp;\n",
      "\t\t\t\t\t\t\t\t\tnomeFornecedor=&amp;\n",
      "\t\t\t\t\t\t\t\t\tcnpjFornecedor=&amp;\n",
      "\t\t\t\t\t\t\t\t\tnumDocumento=&amp;\n",
      "\t\t\t\t\t\t\t\t\tsguf=\" id=\"linkSumarizado3\">\n",
      "\t\t\t\t\t\t\t\t\t\n",
      "\t\t\t\t\t\t\tLOCAÇÃO OU FRETAMENTO DE VEÍCULOS AUTOMOTORES</a>\n",
      "</td>\n",
      "<td id=\"sumarizado3\">\n",
      "\t               \t\tR$ 2.869,00</td>\n",
      "</tr>\n",
      "<tr>\n",
      "<td>\n",
      "<a href=\"/cota-parlamentar/analitico?\n",
      "\t\t\t\t\t\t\t\t\tnuDeputadoId=3208&amp;\n",
      "\t\t\t\t\t\t\t\t\tdataInicio=1/2020&amp;\n",
      "\t\t\t\t\t\t\t\t\tdataFim=1/2020&amp;\n",
      "\t\t\t\t\t\t\t\t\tdespesa=122&amp;\n",
      "\t\t\t\t\t\t\t\t\tnomeHospede=&amp;\n",
      "\t\t\t\t\t\t\t\t\tnomePassageiro=&amp;\n",
      "\t\t\t\t\t\t\t\t\tnomeFornecedor=&amp;\n",
      "\t\t\t\t\t\t\t\t\tcnpjFornecedor=&amp;\n",
      "\t\t\t\t\t\t\t\t\tnumDocumento=&amp;\n",
      "\t\t\t\t\t\t\t\t\tsguf=\" id=\"linkSumarizado4\">\n",
      "\t\t\t\t\t\t\t\t\t\n",
      "\t\t\t\t\t\t\tSERVIÇO DE TÁXI, PEDÁGIO E ESTACIONAMENTO</a>\n",
      "</td>\n",
      "<td id=\"sumarizado4\">\n",
      "\t               \t\tR$ 452,00</td>\n",
      "</tr>\n",
      "<tr>\n",
      "<td>\n",
      "<a href=\"/cota-parlamentar/analitico?\n",
      "\t\t\t\t\t\t\t\t\tnuDeputadoId=3208&amp;\n",
      "\t\t\t\t\t\t\t\t\tdataInicio=1/2020&amp;\n",
      "\t\t\t\t\t\t\t\t\tdataFim=1/2020&amp;\n",
      "\t\t\t\t\t\t\t\t\tdespesa=3&amp;\n",
      "\t\t\t\t\t\t\t\t\tnomeHospede=&amp;\n",
      "\t\t\t\t\t\t\t\t\tnomePassageiro=&amp;\n",
      "\t\t\t\t\t\t\t\t\tnomeFornecedor=&amp;\n",
      "\t\t\t\t\t\t\t\t\tcnpjFornecedor=&amp;\n",
      "\t\t\t\t\t\t\t\t\tnumDocumento=&amp;\n",
      "\t\t\t\t\t\t\t\t\tsguf=\" id=\"linkSumarizado5\">\n",
      "\t\t\t\t\t\t\t\t\t\n",
      "\t\t\t\t\t\t\tCOMBUSTÍVEIS E LUBRIFICANTES.</a>\n",
      "</td>\n",
      "<td id=\"sumarizado5\">\n",
      "\t               \t\tR$ 897,25</td>\n",
      "</tr>\n",
      "<tr>\n",
      "<td>\n",
      "<a href=\"/cota-parlamentar/analitico?\n",
      "\t\t\t\t\t\t\t\t\tnuDeputadoId=3208&amp;\n",
      "\t\t\t\t\t\t\t\t\tdataInicio=1/2020&amp;\n",
      "\t\t\t\t\t\t\t\t\tdataFim=1/2020&amp;\n",
      "\t\t\t\t\t\t\t\t\tdespesa=4&amp;\n",
      "\t\t\t\t\t\t\t\t\tnomeHospede=&amp;\n",
      "\t\t\t\t\t\t\t\t\tnomePassageiro=&amp;\n",
      "\t\t\t\t\t\t\t\t\tnomeFornecedor=&amp;\n",
      "\t\t\t\t\t\t\t\t\tcnpjFornecedor=&amp;\n",
      "\t\t\t\t\t\t\t\t\tnumDocumento=&amp;\n",
      "\t\t\t\t\t\t\t\t\tsguf=\" id=\"linkSumarizado6\">\n",
      "\t\t\t\t\t\t\t\t\t\n",
      "\t\t\t\t\t\t\tCONSULTORIAS, PESQUISAS E TRABALHOS TÉCNICOS.</a>\n",
      "</td>\n",
      "<td id=\"sumarizado6\">\n",
      "\t               \t\tR$ 18.408,00</td>\n",
      "</tr>\n",
      "<tr>\n",
      "<td>\n",
      "<a href=\"/cota-parlamentar/analitico?\n",
      "\t\t\t\t\t\t\t\t\tnuDeputadoId=3208&amp;\n",
      "\t\t\t\t\t\t\t\t\tdataInicio=1/2020&amp;\n",
      "\t\t\t\t\t\t\t\t\tdataFim=1/2020&amp;\n",
      "\t\t\t\t\t\t\t\t\tdespesa=5&amp;\n",
      "\t\t\t\t\t\t\t\t\tnomeHospede=&amp;\n",
      "\t\t\t\t\t\t\t\t\tnomePassageiro=&amp;\n",
      "\t\t\t\t\t\t\t\t\tnomeFornecedor=&amp;\n",
      "\t\t\t\t\t\t\t\t\tcnpjFornecedor=&amp;\n",
      "\t\t\t\t\t\t\t\t\tnumDocumento=&amp;\n",
      "\t\t\t\t\t\t\t\t\tsguf=\" id=\"linkSumarizado7\">\n",
      "\t\t\t\t\t\t\t\t\t\n",
      "\t\t\t\t\t\t\tDIVULGAÇÃO DA ATIVIDADE PARLAMENTAR.</a>\n",
      "</td>\n",
      "<td id=\"sumarizado7\">\n",
      "\t               \t\tR$ 2.000,00</td>\n",
      "</tr>\n",
      "<tr>\n",
      "<td>Total </td>\n",
      "<td id=\"totalFinalSumarizado\">\n",
      "                \tR$ 27.518,96</td>\n",
      "</tr>\n",
      "</tbody>\n",
      "</table>\n",
      "</div></div>\n",
      "</div>\n",
      "</div>\n"
     ]
    }
   ],
   "source": [
    "print(soup)"
   ]
  },
  {
   "cell_type": "code",
   "execution_count": 6,
   "metadata": {},
   "outputs": [],
   "source": [
    "tabela = soup.find_all('td')"
   ]
  },
  {
   "cell_type": "code",
   "execution_count": 7,
   "metadata": {},
   "outputs": [
    {
     "name": "stdout",
     "output_type": "stream",
     "text": [
      "[<td>\n",
      "<a href=\"/cota-parlamentar/analitico?\n",
      "\t\t\t\t\t\t\t\t\tnuDeputadoId=3208&amp;\n",
      "\t\t\t\t\t\t\t\t\tdataInicio=1/2020&amp;\n",
      "\t\t\t\t\t\t\t\t\tdataFim=1/2020&amp;\n",
      "\t\t\t\t\t\t\t\t\tdespesa=1&amp;\n",
      "\t\t\t\t\t\t\t\t\tnomeHospede=&amp;\n",
      "\t\t\t\t\t\t\t\t\tnomePassageiro=&amp;\n",
      "\t\t\t\t\t\t\t\t\tnomeFornecedor=&amp;\n",
      "\t\t\t\t\t\t\t\t\tcnpjFornecedor=&amp;\n",
      "\t\t\t\t\t\t\t\t\tnumDocumento=&amp;\n",
      "\t\t\t\t\t\t\t\t\tsguf=\" id=\"linkSumarizado0\">\n",
      "\t\t\t\t\t\t\t\t\t\n",
      "\t\t\t\t\t\t\tMANUTENÇÃO DE ESCRITÓRIO DE APOIO À ATIVIDADE PARLAMENTAR</a>\n",
      "</td>, <td id=\"sumarizado0\">\n",
      "\t               \t\tR$ 2.598,16</td>, <td>\n",
      "<a href=\"/cota-parlamentar/analitico?\n",
      "\t\t\t\t\t\t\t\t\tnuDeputadoId=3208&amp;\n",
      "\t\t\t\t\t\t\t\t\tdataInicio=1/2020&amp;\n",
      "\t\t\t\t\t\t\t\t\tdataFim=1/2020&amp;\n",
      "\t\t\t\t\t\t\t\t\tdespesa=10&amp;\n",
      "\t\t\t\t\t\t\t\t\tnomeHospede=&amp;\n",
      "\t\t\t\t\t\t\t\t\tnomePassageiro=&amp;\n",
      "\t\t\t\t\t\t\t\t\tnomeFornecedor=&amp;\n",
      "\t\t\t\t\t\t\t\t\tcnpjFornecedor=&amp;\n",
      "\t\t\t\t\t\t\t\t\tnumDocumento=&amp;\n",
      "\t\t\t\t\t\t\t\t\tsguf=\" id=\"linkSumarizado1\">\n",
      "\t\t\t\t\t\t\t\t\t\n",
      "\t\t\t\t\t\t\tTELEFONIA</a>\n",
      "</td>, <td id=\"sumarizado1\">\n",
      "\t               \t\tR$ 222,25</td>, <td>\n",
      "<a href=\"/cota-parlamentar/analitico?\n",
      "\t\t\t\t\t\t\t\t\tnuDeputadoId=3208&amp;\n",
      "\t\t\t\t\t\t\t\t\tdataInicio=1/2020&amp;\n",
      "\t\t\t\t\t\t\t\t\tdataFim=1/2020&amp;\n",
      "\t\t\t\t\t\t\t\t\tdespesa=11&amp;\n",
      "\t\t\t\t\t\t\t\t\tnomeHospede=&amp;\n",
      "\t\t\t\t\t\t\t\t\tnomePassageiro=&amp;\n",
      "\t\t\t\t\t\t\t\t\tnomeFornecedor=&amp;\n",
      "\t\t\t\t\t\t\t\t\tcnpjFornecedor=&amp;\n",
      "\t\t\t\t\t\t\t\t\tnumDocumento=&amp;\n",
      "\t\t\t\t\t\t\t\t\tsguf=\" id=\"linkSumarizado2\">\n",
      "\t\t\t\t\t\t\t\t\t\n",
      "\t\t\t\t\t\t\tSERVIÇOS POSTAIS</a>\n",
      "</td>, <td id=\"sumarizado2\">\n",
      "\t               \t\tR$ 72,30</td>, <td>\n",
      "<a href=\"/cota-parlamentar/analitico?\n",
      "\t\t\t\t\t\t\t\t\tnuDeputadoId=3208&amp;\n",
      "\t\t\t\t\t\t\t\t\tdataInicio=1/2020&amp;\n",
      "\t\t\t\t\t\t\t\t\tdataFim=1/2020&amp;\n",
      "\t\t\t\t\t\t\t\t\tdespesa=120&amp;\n",
      "\t\t\t\t\t\t\t\t\tnomeHospede=&amp;\n",
      "\t\t\t\t\t\t\t\t\tnomePassageiro=&amp;\n",
      "\t\t\t\t\t\t\t\t\tnomeFornecedor=&amp;\n",
      "\t\t\t\t\t\t\t\t\tcnpjFornecedor=&amp;\n",
      "\t\t\t\t\t\t\t\t\tnumDocumento=&amp;\n",
      "\t\t\t\t\t\t\t\t\tsguf=\" id=\"linkSumarizado3\">\n",
      "\t\t\t\t\t\t\t\t\t\n",
      "\t\t\t\t\t\t\tLOCAÇÃO OU FRETAMENTO DE VEÍCULOS AUTOMOTORES</a>\n",
      "</td>, <td id=\"sumarizado3\">\n",
      "\t               \t\tR$ 2.869,00</td>, <td>\n",
      "<a href=\"/cota-parlamentar/analitico?\n",
      "\t\t\t\t\t\t\t\t\tnuDeputadoId=3208&amp;\n",
      "\t\t\t\t\t\t\t\t\tdataInicio=1/2020&amp;\n",
      "\t\t\t\t\t\t\t\t\tdataFim=1/2020&amp;\n",
      "\t\t\t\t\t\t\t\t\tdespesa=122&amp;\n",
      "\t\t\t\t\t\t\t\t\tnomeHospede=&amp;\n",
      "\t\t\t\t\t\t\t\t\tnomePassageiro=&amp;\n",
      "\t\t\t\t\t\t\t\t\tnomeFornecedor=&amp;\n",
      "\t\t\t\t\t\t\t\t\tcnpjFornecedor=&amp;\n",
      "\t\t\t\t\t\t\t\t\tnumDocumento=&amp;\n",
      "\t\t\t\t\t\t\t\t\tsguf=\" id=\"linkSumarizado4\">\n",
      "\t\t\t\t\t\t\t\t\t\n",
      "\t\t\t\t\t\t\tSERVIÇO DE TÁXI, PEDÁGIO E ESTACIONAMENTO</a>\n",
      "</td>, <td id=\"sumarizado4\">\n",
      "\t               \t\tR$ 452,00</td>, <td>\n",
      "<a href=\"/cota-parlamentar/analitico?\n",
      "\t\t\t\t\t\t\t\t\tnuDeputadoId=3208&amp;\n",
      "\t\t\t\t\t\t\t\t\tdataInicio=1/2020&amp;\n",
      "\t\t\t\t\t\t\t\t\tdataFim=1/2020&amp;\n",
      "\t\t\t\t\t\t\t\t\tdespesa=3&amp;\n",
      "\t\t\t\t\t\t\t\t\tnomeHospede=&amp;\n",
      "\t\t\t\t\t\t\t\t\tnomePassageiro=&amp;\n",
      "\t\t\t\t\t\t\t\t\tnomeFornecedor=&amp;\n",
      "\t\t\t\t\t\t\t\t\tcnpjFornecedor=&amp;\n",
      "\t\t\t\t\t\t\t\t\tnumDocumento=&amp;\n",
      "\t\t\t\t\t\t\t\t\tsguf=\" id=\"linkSumarizado5\">\n",
      "\t\t\t\t\t\t\t\t\t\n",
      "\t\t\t\t\t\t\tCOMBUSTÍVEIS E LUBRIFICANTES.</a>\n",
      "</td>, <td id=\"sumarizado5\">\n",
      "\t               \t\tR$ 897,25</td>, <td>\n",
      "<a href=\"/cota-parlamentar/analitico?\n",
      "\t\t\t\t\t\t\t\t\tnuDeputadoId=3208&amp;\n",
      "\t\t\t\t\t\t\t\t\tdataInicio=1/2020&amp;\n",
      "\t\t\t\t\t\t\t\t\tdataFim=1/2020&amp;\n",
      "\t\t\t\t\t\t\t\t\tdespesa=4&amp;\n",
      "\t\t\t\t\t\t\t\t\tnomeHospede=&amp;\n",
      "\t\t\t\t\t\t\t\t\tnomePassageiro=&amp;\n",
      "\t\t\t\t\t\t\t\t\tnomeFornecedor=&amp;\n",
      "\t\t\t\t\t\t\t\t\tcnpjFornecedor=&amp;\n",
      "\t\t\t\t\t\t\t\t\tnumDocumento=&amp;\n",
      "\t\t\t\t\t\t\t\t\tsguf=\" id=\"linkSumarizado6\">\n",
      "\t\t\t\t\t\t\t\t\t\n",
      "\t\t\t\t\t\t\tCONSULTORIAS, PESQUISAS E TRABALHOS TÉCNICOS.</a>\n",
      "</td>, <td id=\"sumarizado6\">\n",
      "\t               \t\tR$ 18.408,00</td>, <td>\n",
      "<a href=\"/cota-parlamentar/analitico?\n",
      "\t\t\t\t\t\t\t\t\tnuDeputadoId=3208&amp;\n",
      "\t\t\t\t\t\t\t\t\tdataInicio=1/2020&amp;\n",
      "\t\t\t\t\t\t\t\t\tdataFim=1/2020&amp;\n",
      "\t\t\t\t\t\t\t\t\tdespesa=5&amp;\n",
      "\t\t\t\t\t\t\t\t\tnomeHospede=&amp;\n",
      "\t\t\t\t\t\t\t\t\tnomePassageiro=&amp;\n",
      "\t\t\t\t\t\t\t\t\tnomeFornecedor=&amp;\n",
      "\t\t\t\t\t\t\t\t\tcnpjFornecedor=&amp;\n",
      "\t\t\t\t\t\t\t\t\tnumDocumento=&amp;\n",
      "\t\t\t\t\t\t\t\t\tsguf=\" id=\"linkSumarizado7\">\n",
      "\t\t\t\t\t\t\t\t\t\n",
      "\t\t\t\t\t\t\tDIVULGAÇÃO DA ATIVIDADE PARLAMENTAR.</a>\n",
      "</td>, <td id=\"sumarizado7\">\n",
      "\t               \t\tR$ 2.000,00</td>, <td>Total </td>, <td id=\"totalFinalSumarizado\">\n",
      "                \tR$ 27.518,96</td>]\n"
     ]
    }
   ],
   "source": [
    "print(tabela)"
   ]
  },
  {
   "cell_type": "code",
   "execution_count": 8,
   "metadata": {},
   "outputs": [],
   "source": [
    "TipoDespesa = soup.find(id=\"linkSumarizado1\")"
   ]
  },
  {
   "cell_type": "code",
   "execution_count": 9,
   "metadata": {
    "scrolled": true
   },
   "outputs": [
    {
     "name": "stdout",
     "output_type": "stream",
     "text": [
      "<a href=\"/cota-parlamentar/analitico?\n",
      "\t\t\t\t\t\t\t\t\tnuDeputadoId=3208&amp;\n",
      "\t\t\t\t\t\t\t\t\tdataInicio=1/2020&amp;\n",
      "\t\t\t\t\t\t\t\t\tdataFim=1/2020&amp;\n",
      "\t\t\t\t\t\t\t\t\tdespesa=10&amp;\n",
      "\t\t\t\t\t\t\t\t\tnomeHospede=&amp;\n",
      "\t\t\t\t\t\t\t\t\tnomePassageiro=&amp;\n",
      "\t\t\t\t\t\t\t\t\tnomeFornecedor=&amp;\n",
      "\t\t\t\t\t\t\t\t\tcnpjFornecedor=&amp;\n",
      "\t\t\t\t\t\t\t\t\tnumDocumento=&amp;\n",
      "\t\t\t\t\t\t\t\t\tsguf=\" id=\"linkSumarizado1\">\n",
      "\t\t\t\t\t\t\t\t\t\n",
      "\t\t\t\t\t\t\tTELEFONIA</a>\n"
     ]
    }
   ],
   "source": [
    "print(TipoDespesa)"
   ]
  },
  {
   "cell_type": "code",
   "execution_count": 10,
   "metadata": {},
   "outputs": [
    {
     "name": "stdout",
     "output_type": "stream",
     "text": [
      "['\\n\\t\\t\\t\\t\\t\\t\\t\\t\\t\\n\\t\\t\\t\\t\\t\\t\\tTELEFONIA']\n"
     ]
    }
   ],
   "source": [
    "quotes = [quote for quote in TipoDespesa]\n",
    "print(quotes)"
   ]
  },
  {
   "cell_type": "code",
   "execution_count": 11,
   "metadata": {},
   "outputs": [
    {
     "name": "stdout",
     "output_type": "stream",
     "text": [
      "TELEFONIA\n"
     ]
    }
   ],
   "source": [
    "print(quotes[0].replace('\\n', '').replace('\\t', ''))"
   ]
  },
  {
   "cell_type": "code",
   "execution_count": 12,
   "metadata": {},
   "outputs": [],
   "source": [
    "Despesa = soup.find(id=\"sumarizado0\")"
   ]
  },
  {
   "cell_type": "code",
   "execution_count": 13,
   "metadata": {},
   "outputs": [
    {
     "name": "stdout",
     "output_type": "stream",
     "text": [
      "<td id=\"sumarizado0\">\n",
      "\t               \t\tR$ 2.598,16</td>\n"
     ]
    }
   ],
   "source": [
    "print(Despesa)"
   ]
  },
  {
   "cell_type": "code",
   "execution_count": 14,
   "metadata": {},
   "outputs": [
    {
     "name": "stdout",
     "output_type": "stream",
     "text": [
      "['\\n\\t               \\t\\tR$ 2.598,16']\n"
     ]
    }
   ],
   "source": [
    "quotes2 = [quote for quote in Despesa]\n",
    "print(quotes2)"
   ]
  },
  {
   "cell_type": "code",
   "execution_count": 15,
   "metadata": {},
   "outputs": [
    {
     "name": "stdout",
     "output_type": "stream",
     "text": [
      "               R$ 2.598,16\n"
     ]
    }
   ],
   "source": [
    "print(quotes2[0].replace('\\n', '').replace('\\t', ''))"
   ]
  },
  {
   "cell_type": "code",
   "execution_count": 16,
   "metadata": {},
   "outputs": [
    {
     "name": "stdout",
     "output_type": "stream",
     "text": [
      "[['MANUTENÇÃO DE ESCRITÓRIO DE APOIO À ATIVIDADE PARLAMENTAR', '               R$ 2.598,16']]\n",
      "[['MANUTENÇÃO DE ESCRITÓRIO DE APOIO À ATIVIDADE PARLAMENTAR', '               R$ 2.598,16'], ['TELEFONIA', '               R$ 222,25']]\n",
      "[['MANUTENÇÃO DE ESCRITÓRIO DE APOIO À ATIVIDADE PARLAMENTAR', '               R$ 2.598,16'], ['TELEFONIA', '               R$ 222,25'], ['SERVIÇOS POSTAIS', '               R$ 72,30']]\n",
      "[['MANUTENÇÃO DE ESCRITÓRIO DE APOIO À ATIVIDADE PARLAMENTAR', '               R$ 2.598,16'], ['TELEFONIA', '               R$ 222,25'], ['SERVIÇOS POSTAIS', '               R$ 72,30'], ['LOCAÇÃO OU FRETAMENTO DE VEÍCULOS AUTOMOTORES', '               R$ 2.869,00']]\n",
      "[['MANUTENÇÃO DE ESCRITÓRIO DE APOIO À ATIVIDADE PARLAMENTAR', '               R$ 2.598,16'], ['TELEFONIA', '               R$ 222,25'], ['SERVIÇOS POSTAIS', '               R$ 72,30'], ['LOCAÇÃO OU FRETAMENTO DE VEÍCULOS AUTOMOTORES', '               R$ 2.869,00'], ['SERVIÇO DE TÁXI, PEDÁGIO E ESTACIONAMENTO', '               R$ 452,00']]\n",
      "[['MANUTENÇÃO DE ESCRITÓRIO DE APOIO À ATIVIDADE PARLAMENTAR', '               R$ 2.598,16'], ['TELEFONIA', '               R$ 222,25'], ['SERVIÇOS POSTAIS', '               R$ 72,30'], ['LOCAÇÃO OU FRETAMENTO DE VEÍCULOS AUTOMOTORES', '               R$ 2.869,00'], ['SERVIÇO DE TÁXI, PEDÁGIO E ESTACIONAMENTO', '               R$ 452,00'], ['COMBUSTÍVEIS E LUBRIFICANTES.', '               R$ 897,25']]\n",
      "[['MANUTENÇÃO DE ESCRITÓRIO DE APOIO À ATIVIDADE PARLAMENTAR', '               R$ 2.598,16'], ['TELEFONIA', '               R$ 222,25'], ['SERVIÇOS POSTAIS', '               R$ 72,30'], ['LOCAÇÃO OU FRETAMENTO DE VEÍCULOS AUTOMOTORES', '               R$ 2.869,00'], ['SERVIÇO DE TÁXI, PEDÁGIO E ESTACIONAMENTO', '               R$ 452,00'], ['COMBUSTÍVEIS E LUBRIFICANTES.', '               R$ 897,25'], ['CONSULTORIAS, PESQUISAS E TRABALHOS TÉCNICOS.', '               R$ 18.408,00']]\n",
      "[['MANUTENÇÃO DE ESCRITÓRIO DE APOIO À ATIVIDADE PARLAMENTAR', '               R$ 2.598,16'], ['TELEFONIA', '               R$ 222,25'], ['SERVIÇOS POSTAIS', '               R$ 72,30'], ['LOCAÇÃO OU FRETAMENTO DE VEÍCULOS AUTOMOTORES', '               R$ 2.869,00'], ['SERVIÇO DE TÁXI, PEDÁGIO E ESTACIONAMENTO', '               R$ 452,00'], ['COMBUSTÍVEIS E LUBRIFICANTES.', '               R$ 897,25'], ['CONSULTORIAS, PESQUISAS E TRABALHOS TÉCNICOS.', '               R$ 18.408,00'], ['DIVULGAÇÃO DA ATIVIDADE PARLAMENTAR.', '               R$ 2.000,00']]\n"
     ]
    }
   ],
   "source": [
    "Contagem = 0\n",
    "tabeladados = []\n",
    "\n",
    "while True:\n",
    "    try:\n",
    "        TipoDespesa = soup.find(id=\"linkSumarizado{}\".format(Contagem))\n",
    "        quotes = [quote for quote in TipoDespesa]\n",
    "        Despesa = soup.find(id=\"sumarizado{}\".format(Contagem))\n",
    "        quotes2 = [quote for quote in Despesa]\n",
    "        tabeladados.append([quotes[0].replace('\\n', '').replace('\\t', ''),quotes2[0].replace('\\n', '').replace('\\t', '')])\n",
    "        \n",
    "        Contagem += 1\n",
    "        \n",
    "        print(tabeladados)\n",
    "    except:\n",
    "        break"
   ]
  },
  {
   "cell_type": "code",
   "execution_count": 19,
   "metadata": {},
   "outputs": [
    {
     "name": "stdout",
     "output_type": "stream",
     "text": [
      "[['MANUTENÇÃO DE ESCRITÓRIO DE APOIO À ATIVIDADE PARLAMENTAR', '               R$ 2.598,16'], ['TELEFONIA', '               R$ 222,25'], ['SERVIÇOS POSTAIS', '               R$ 72,30'], ['LOCAÇÃO OU FRETAMENTO DE VEÍCULOS AUTOMOTORES', '               R$ 2.869,00'], ['SERVIÇO DE TÁXI, PEDÁGIO E ESTACIONAMENTO', '               R$ 452,00'], ['COMBUSTÍVEIS E LUBRIFICANTES.', '               R$ 897,25'], ['CONSULTORIAS, PESQUISAS E TRABALHOS TÉCNICOS.', '               R$ 18.408,00'], ['DIVULGAÇÃO DA ATIVIDADE PARLAMENTAR.', '               R$ 2.000,00']]\n"
     ]
    }
   ],
   "source": [
    "print(tabeladados)"
   ]
  },
  {
   "cell_type": "code",
   "execution_count": 20,
   "metadata": {},
   "outputs": [
    {
     "data": {
      "text/html": [
       "<div>\n",
       "<style scoped>\n",
       "    .dataframe tbody tr th:only-of-type {\n",
       "        vertical-align: middle;\n",
       "    }\n",
       "\n",
       "    .dataframe tbody tr th {\n",
       "        vertical-align: top;\n",
       "    }\n",
       "\n",
       "    .dataframe thead th {\n",
       "        text-align: right;\n",
       "    }\n",
       "</style>\n",
       "<table border=\"1\" class=\"dataframe\">\n",
       "  <thead>\n",
       "    <tr style=\"text-align: right;\">\n",
       "      <th></th>\n",
       "      <th>Tipo Despesa</th>\n",
       "      <th>Despesa</th>\n",
       "    </tr>\n",
       "  </thead>\n",
       "  <tbody>\n",
       "    <tr>\n",
       "      <th>0</th>\n",
       "      <td>MANUTENÇÃO DE ESCRITÓRIO DE APOIO À ATIVIDADE ...</td>\n",
       "      <td>R$ 2.598,16</td>\n",
       "    </tr>\n",
       "    <tr>\n",
       "      <th>1</th>\n",
       "      <td>TELEFONIA</td>\n",
       "      <td>R$ 222,25</td>\n",
       "    </tr>\n",
       "    <tr>\n",
       "      <th>2</th>\n",
       "      <td>SERVIÇOS POSTAIS</td>\n",
       "      <td>R$ 72,30</td>\n",
       "    </tr>\n",
       "    <tr>\n",
       "      <th>3</th>\n",
       "      <td>LOCAÇÃO OU FRETAMENTO DE VEÍCULOS AUTOMOTORES</td>\n",
       "      <td>R$ 2.869,00</td>\n",
       "    </tr>\n",
       "    <tr>\n",
       "      <th>4</th>\n",
       "      <td>SERVIÇO DE TÁXI, PEDÁGIO E ESTACIONAMENTO</td>\n",
       "      <td>R$ 452,00</td>\n",
       "    </tr>\n",
       "    <tr>\n",
       "      <th>5</th>\n",
       "      <td>COMBUSTÍVEIS E LUBRIFICANTES.</td>\n",
       "      <td>R$ 897,25</td>\n",
       "    </tr>\n",
       "    <tr>\n",
       "      <th>6</th>\n",
       "      <td>CONSULTORIAS, PESQUISAS E TRABALHOS TÉCNICOS.</td>\n",
       "      <td>R$ 18.408,00</td>\n",
       "    </tr>\n",
       "    <tr>\n",
       "      <th>7</th>\n",
       "      <td>DIVULGAÇÃO DA ATIVIDADE PARLAMENTAR.</td>\n",
       "      <td>R$ 2.000,00</td>\n",
       "    </tr>\n",
       "  </tbody>\n",
       "</table>\n",
       "</div>"
      ],
      "text/plain": [
       "                                        Tipo Despesa  \\\n",
       "0  MANUTENÇÃO DE ESCRITÓRIO DE APOIO À ATIVIDADE ...   \n",
       "1                                          TELEFONIA   \n",
       "2                                   SERVIÇOS POSTAIS   \n",
       "3      LOCAÇÃO OU FRETAMENTO DE VEÍCULOS AUTOMOTORES   \n",
       "4          SERVIÇO DE TÁXI, PEDÁGIO E ESTACIONAMENTO   \n",
       "5                      COMBUSTÍVEIS E LUBRIFICANTES.   \n",
       "6      CONSULTORIAS, PESQUISAS E TRABALHOS TÉCNICOS.   \n",
       "7               DIVULGAÇÃO DA ATIVIDADE PARLAMENTAR.   \n",
       "\n",
       "                       Despesa  \n",
       "0                  R$ 2.598,16  \n",
       "1                    R$ 222,25  \n",
       "2                     R$ 72,30  \n",
       "3                  R$ 2.869,00  \n",
       "4                    R$ 452,00  \n",
       "5                    R$ 897,25  \n",
       "6                 R$ 18.408,00  \n",
       "7                  R$ 2.000,00  "
      ]
     },
     "execution_count": 20,
     "metadata": {},
     "output_type": "execute_result"
    }
   ],
   "source": [
    "df = DataFrame(tabeladados,columns=[\"Tipo Despesa\",\"Despesa\"])\n",
    "df"
   ]
  },
  {
   "cell_type": "code",
   "execution_count": 22,
   "metadata": {},
   "outputs": [],
   "source": [
    "mes = soup.find_all(\"h3\",class_= \"header\")"
   ]
  },
  {
   "cell_type": "code",
   "execution_count": 23,
   "metadata": {},
   "outputs": [
    {
     "name": "stdout",
     "output_type": "stream",
     "text": [
      "[<h3 class=\"header\">\n",
      "\t\t\t\tDeputado(a)/Liderança: \n",
      "\t\t\t\t<a href=\"http://www.camara.leg.br/deputados/204534\" target=\"_blank\">Tabata Amaral </a>\n",
      "\t\t\t\t - PDT/SP</h3>, <h3 class=\"header\">Mês/Ano: Janeiro/2020</h3>]\n"
     ]
    }
   ],
   "source": [
    "print(mes)"
   ]
  },
  {
   "cell_type": "code",
   "execution_count": 62,
   "metadata": {},
   "outputs": [
    {
     "name": "stdout",
     "output_type": "stream",
     "text": [
      "['<h3 class=\"header\">Mês/Ano: Janeiro/2020</h3>', '<h3 class=\"header\">Mês/Ano: Janeiro/2020</h3>']\n"
     ]
    }
   ],
   "source": [
    "dadomes =[]\n",
    "listmes = [quote for quote in mes]\n",
    "\n",
    "for x in listmes:\n",
    "    dadomes.append(str(listmes[1]))\n",
    "print(dadomes)"
   ]
  },
  {
   "cell_type": "code",
   "execution_count": 63,
   "metadata": {},
   "outputs": [
    {
     "name": "stdout",
     "output_type": "stream",
     "text": [
      "Janeiro/2020\n"
     ]
    }
   ],
   "source": [
    "print(dadomes[0][28:-5])"
   ]
  },
  {
   "cell_type": "code",
   "execution_count": 55,
   "metadata": {},
   "outputs": [
    {
     "data": {
      "text/plain": [
       "45"
      ]
     },
     "execution_count": 55,
     "metadata": {},
     "output_type": "execute_result"
    }
   ],
   "source": [
    "len(dadomes[0])"
   ]
  },
  {
   "cell_type": "code",
   "execution_count": null,
   "metadata": {},
   "outputs": [],
   "source": []
  }
 ],
 "metadata": {
  "kernelspec": {
   "display_name": "Python 3",
   "language": "python",
   "name": "python3"
  },
  "language_info": {
   "codemirror_mode": {
    "name": "ipython",
    "version": 3
   },
   "file_extension": ".py",
   "mimetype": "text/x-python",
   "name": "python",
   "nbconvert_exporter": "python",
   "pygments_lexer": "ipython3",
   "version": "3.8.5"
  }
 },
 "nbformat": 4,
 "nbformat_minor": 4
}
