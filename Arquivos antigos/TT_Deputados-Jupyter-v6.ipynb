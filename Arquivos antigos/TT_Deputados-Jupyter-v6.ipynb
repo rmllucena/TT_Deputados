{
 "cells": [
  {
   "cell_type": "code",
   "execution_count": 3,
   "metadata": {},
   "outputs": [],
   "source": [
    "import tweepy as tw\n",
    "import time\n",
    "import gspread\n",
    "from oauth2client.service_account import ServiceAccountCredentials\n",
    "\n",
    "# KEYS PARA CONSEGUIR OS DADOS DO TWITTER\n",
    "consumer_key = 'D7CowpO9FOwoigwClR8k2MN9E'\n",
    "consumer_secret = 'Oc866wtthIiOUV1iksTK7n14mEeKHUgwavJzCKP8gTMyQBKFr1'\n",
    "access_token = '1542145388-xodgfVEv8WrOHNAKYtpmPUghD0nDvy5G6HTBi7P'\n",
    "access_token_secret = 'w9ljBnC99rES8lT2xT50r6VIhAKl9940NkAe2Md0V3lbj'\n",
    "# AUTENTICAÇÃO TWITTER\n",
    "auth = tw.OAuthHandler(consumer_key, consumer_secret)\n",
    "auth.set_access_token(access_token, access_token_secret)\n",
    "api = tw.API(auth, wait_on_rate_limit=True)\n",
    "# KEYS PARA CONSEGUIR OS DADOS DO TWITTER\n",
    "consumer_key = 'D7CowpO9FOwoigwClR8k2MN9E'\n",
    "consumer_secret = 'Oc866wtthIiOUV1iksTK7n14mEeKHUgwavJzCKP8gTMyQBKFr1'\n",
    "access_token = '1542145388-xodgfVEv8WrOHNAKYtpmPUghD0nDvy5G6HTBi7P'\n",
    "access_token_secret = 'w9ljBnC99rES8lT2xT50r6VIhAKl9940NkAe2Md0V3lbj'\n",
    "# AUTENTICAÇÃO TWITTER\n",
    "auth = tw.OAuthHandler(consumer_key, consumer_secret)\n",
    "auth.set_access_token(access_token, access_token_secret)\n",
    "api = tw.API(auth, wait_on_rate_limit=True)\n",
    "\n",
    "\n"
   ]
  },
  {
   "cell_type": "code",
   "execution_count": 4,
   "metadata": {},
   "outputs": [],
   "source": [
    "deputados = [[\"@amaronetotv\", \"@aferreira2020\", \"@andrepdt12\", \"@DepAndreFufuca\", \"@AndreJanonesAdv\", \"@DeputadaAngela\", \n",
    "              \"@AntonioBrito_\", \"@achinaglia\", \"@ArnaldoJardim\", \"@aroldomartins\", \"@ArthurLira_\", \"@DepArthurMaia\", \n",
    "              \"@assis_carvalho\", \"@deputadoatila\", \"@dep_acoutinho\", \"@aureacarolinax\", \"@AureoRibeiroRJ\", \"@Baleia_Rossi\", \n",
    "              \"@dasilvabenedita\", \"@benesleocadiorn\", \"@BetoFaroPT\", \"@betopereirams\", \"@BetoRosado\", \"@Biakicis\", \n",
    "              \"@bibonunes1\", \"@bilac_pinto\", \"@BiradoPindare\", \"@BocaAbertaOf\", \"@BohnGass\", \"@BoscoCosta_SE\"]]\n",
    "\n"
   ]
  },
  {
   "cell_type": "code",
   "execution_count": 5,
   "metadata": {},
   "outputs": [
    {
     "ename": "NameError",
     "evalue": "name 'replyCounter' is not defined",
     "output_type": "error",
     "traceback": [
      "\u001b[1;31m---------------------------------------------------------------------------\u001b[0m",
      "\u001b[1;31mNameError\u001b[0m                                 Traceback (most recent call last)",
      "\u001b[1;32m<ipython-input-5-08395aaa8443>\u001b[0m in \u001b[0;36m<module>\u001b[1;34m\u001b[0m\n\u001b[0;32m     11\u001b[0m         \u001b[0mtweets\u001b[0m \u001b[1;33m=\u001b[0m \u001b[0mtw\u001b[0m\u001b[1;33m.\u001b[0m\u001b[0mCursor\u001b[0m\u001b[1;33m(\u001b[0m\u001b[0mapi\u001b[0m\u001b[1;33m.\u001b[0m\u001b[0msearch\u001b[0m\u001b[1;33m,\u001b[0m \u001b[0mq\u001b[0m\u001b[1;33m=\u001b[0m\u001b[1;34m\"from:\"\u001b[0m \u001b[1;33m+\u001b[0m \u001b[0muser\u001b[0m\u001b[1;33m[\u001b[0m\u001b[0mx\u001b[0m\u001b[1;33m]\u001b[0m\u001b[1;33m,\u001b[0m \u001b[0mlang\u001b[0m\u001b[1;33m=\u001b[0m\u001b[1;34m\"pt\"\u001b[0m\u001b[1;33m,\u001b[0m \u001b[0mtweet_mode\u001b[0m\u001b[1;33m=\u001b[0m\u001b[1;34m'extended'\u001b[0m\u001b[1;33m)\u001b[0m\u001b[1;33m.\u001b[0m\u001b[0mitems\u001b[0m\u001b[1;33m(\u001b[0m\u001b[1;36m1\u001b[0m\u001b[1;33m)\u001b[0m\u001b[1;33m\u001b[0m\u001b[1;33m\u001b[0m\u001b[0m\n\u001b[0;32m     12\u001b[0m \u001b[1;33m\u001b[0m\u001b[0m\n\u001b[1;32m---> 13\u001b[1;33m         users_locs = [[\"@\"+tweet.user.screen_name, tweet.full_text, tweet.retweet_count, tweet.favorite_count, replyCounter,\n\u001b[0m\u001b[0;32m     14\u001b[0m                        str(tweet.created_at)[0:10], str(tweet.created_at)[11:19]] for tweet in tweets]\n\u001b[0;32m     15\u001b[0m         \u001b[0mtabela_mestre\u001b[0m \u001b[1;33m=\u001b[0m \u001b[0mtabela_mestre\u001b[0m \u001b[1;33m+\u001b[0m \u001b[0musers_locs\u001b[0m\u001b[1;33m\u001b[0m\u001b[1;33m\u001b[0m\u001b[0m\n",
      "\u001b[1;32m<ipython-input-5-08395aaa8443>\u001b[0m in \u001b[0;36m<listcomp>\u001b[1;34m(.0)\u001b[0m\n\u001b[0;32m     11\u001b[0m         \u001b[0mtweets\u001b[0m \u001b[1;33m=\u001b[0m \u001b[0mtw\u001b[0m\u001b[1;33m.\u001b[0m\u001b[0mCursor\u001b[0m\u001b[1;33m(\u001b[0m\u001b[0mapi\u001b[0m\u001b[1;33m.\u001b[0m\u001b[0msearch\u001b[0m\u001b[1;33m,\u001b[0m \u001b[0mq\u001b[0m\u001b[1;33m=\u001b[0m\u001b[1;34m\"from:\"\u001b[0m \u001b[1;33m+\u001b[0m \u001b[0muser\u001b[0m\u001b[1;33m[\u001b[0m\u001b[0mx\u001b[0m\u001b[1;33m]\u001b[0m\u001b[1;33m,\u001b[0m \u001b[0mlang\u001b[0m\u001b[1;33m=\u001b[0m\u001b[1;34m\"pt\"\u001b[0m\u001b[1;33m,\u001b[0m \u001b[0mtweet_mode\u001b[0m\u001b[1;33m=\u001b[0m\u001b[1;34m'extended'\u001b[0m\u001b[1;33m)\u001b[0m\u001b[1;33m.\u001b[0m\u001b[0mitems\u001b[0m\u001b[1;33m(\u001b[0m\u001b[1;36m1\u001b[0m\u001b[1;33m)\u001b[0m\u001b[1;33m\u001b[0m\u001b[1;33m\u001b[0m\u001b[0m\n\u001b[0;32m     12\u001b[0m \u001b[1;33m\u001b[0m\u001b[0m\n\u001b[1;32m---> 13\u001b[1;33m         users_locs = [[\"@\"+tweet.user.screen_name, tweet.full_text, tweet.retweet_count, tweet.favorite_count, replyCounter,\n\u001b[0m\u001b[0;32m     14\u001b[0m                        str(tweet.created_at)[0:10], str(tweet.created_at)[11:19]] for tweet in tweets]\n\u001b[0;32m     15\u001b[0m         \u001b[0mtabela_mestre\u001b[0m \u001b[1;33m=\u001b[0m \u001b[0mtabela_mestre\u001b[0m \u001b[1;33m+\u001b[0m \u001b[0musers_locs\u001b[0m\u001b[1;33m\u001b[0m\u001b[1;33m\u001b[0m\u001b[0m\n",
      "\u001b[1;31mNameError\u001b[0m: name 'replyCounter' is not defined"
     ]
    }
   ],
   "source": [
    "for item in range(len(deputados)):\n",
    "    \n",
    "\n",
    "\n",
    "    # CÓDIGO QUE ENTRAR NO TWITTER\n",
    "    \n",
    "    user = deputados[item]\n",
    "    tabela_mestre = []\n",
    "\n",
    "    for x in range(len(user)):\n",
    "        tweets = tw.Cursor(api.search, q=\"from:\" + user[x], lang=\"pt\", tweet_mode='extended').items(1)\n",
    "\n",
    "        users_locs = [[\"@\"+tweet.user.screen_name, tweet.full_text, tweet.retweet_count, tweet.favorite_count, replyCounter,\n",
    "                       str(tweet.created_at)[0:10], str(tweet.created_at)[11:19]] for tweet in tweets]\n",
    "        tabela_mestre = tabela_mestre + users_locs\n",
    "\n",
    "    # PRINT TESTE\n",
    "    print(tabela_mestre)\n",
    "    print(\"_______________________________________________\")\n",
    "    \n",
    "\n",
    "\n"
   ]
  },
  {
   "cell_type": "code",
   "execution_count": 24,
   "metadata": {},
   "outputs": [
    {
     "name": "stderr",
     "output_type": "stream",
     "text": [
      "<ipython-input-24-a24850d5c415>:38: DeprecationWarning: Worksheet.delete_row() is deprecated, Please use `Worksheet.delete_rows()` instead.\n",
      "  sheet1.delete_row(delete2[x])\n"
     ]
    },
    {
     "name": "stdout",
     "output_type": "stream",
     "text": [
      "_______________________________________________\n",
      "DADOS REPETIDOS APAGADOS\n",
      "_______________________________________________FIM DE CÓDIGO NÚMERO [0]\n"
     ]
    }
   ],
   "source": [
    "\n",
    "\n",
    "    # PEGANDO DADOS QUE ACABEI DE ADD\n",
    "    sheetopen = client.open(\"TT_dep_federais_DB\").sheet1\n",
    "    list_of_hashes = sheetopen.get_all_records()\n",
    "\n",
    "    # FAZENDO UMA LISTA COM APENAS USUARIO E TEXTO\n",
    "    lista = []\n",
    "    for x in list_of_hashes:\n",
    "        [lista.extend([k, v]) for k, v in x.items()]\n",
    "\n",
    "    words = []\n",
    "    multiplo = 3\n",
    "    for x in range(len(lista)):\n",
    "        if str(x) == str(multiplo):\n",
    "            words.append([lista[x - 2], lista[x].split()])\n",
    "            multiplo += 12\n",
    "\n",
    "    # APAGANDO DADOS REPETIDOS\n",
    "    repeated = []\n",
    "    repeated2 = []\n",
    "    for x in range(len(words)):\n",
    "        for y in range(len(words)):\n",
    "            if words[x] == words[y]:\n",
    "                repeated.append(y)\n",
    "                break\n",
    "    for x in range(len(words)):\n",
    "        for y in range(len(words)):\n",
    "            if words[x] == words[y]:\n",
    "                repeated2.append(y)\n",
    "    delete = list(list(set(repeated2) - set(repeated)) + list(set(repeated) - set(repeated2)))\n",
    "\n",
    "    delete2 = []\n",
    "    for x in range(len(delete)):\n",
    "        delete2.append(delete[x] + 2)\n",
    "        \n",
    "    delete2.sort()\n",
    "\n",
    "    for x in reversed(range(len(delete2))):\n",
    "        sheet1.delete_row(delete2[x])\n",
    "    print(\"_______________________________________________\")\n",
    "    print(\"DADOS REPETIDOS APAGADOS\")\n",
    "    print(\"_______________________________________________FIM DE CÓDIGO NÚMERO {}\".format([item]))\n",
    "\n",
    "    time.sleep(100)"
   ]
  },
  {
   "cell_type": "code",
   "execution_count": 23,
   "metadata": {},
   "outputs": [
    {
     "name": "stdout",
     "output_type": "stream",
     "text": [
      "[32, 33, 34, 35, 37, 38, 39, 40, 41, 43, 44, 45, 46]\n"
     ]
    }
   ],
   "source": [
    "print(delete2)"
   ]
  },
  {
   "cell_type": "code",
   "execution_count": 19,
   "metadata": {},
   "outputs": [
    {
     "name": "stdout",
     "output_type": "stream",
     "text": [
      "13\n"
     ]
    }
   ],
   "source": [
    "print(len(delete2))"
   ]
  },
  {
   "cell_type": "code",
   "execution_count": null,
   "metadata": {},
   "outputs": [],
   "source": [
    "    # CÓDIGO QUE ENTRA NA GOOGLESHEET\n",
    "\n",
    "    scope = ['https://www.googleapis.com/auth/spreadsheets', 'https://www.googleapis.com/auth/drive.file',\n",
    "             \"https://www.googleapis.com/auth/drive\"]\n",
    "    creds = ServiceAccountCredentials.from_json_keyfile_name('client_secret.json', scope)\n",
    "    client = gspread.authorize(creds)\n",
    "    sheet1 = client.open('TT_dep_federais_DB').worksheet(\"DB\")\n",
    "\n",
    "    # CÓDIGO QUE INSERE DADOS NA GOOGLESHEET\n",
    "    for x in range(len(tabela_mestre)):\n",
    "        sheet1.insert_row(tabela_mestre[x], 2)\n"
   ]
  },
  {
   "cell_type": "code",
   "execution_count": null,
   "metadata": {},
   "outputs": [],
   "source": []
  },
  {
   "cell_type": "code",
   "execution_count": null,
   "metadata": {},
   "outputs": [],
   "source": []
  }
 ],
 "metadata": {
  "kernelspec": {
   "display_name": "Python 3",
   "language": "python",
   "name": "python3"
  },
  "language_info": {
   "codemirror_mode": {
    "name": "ipython",
    "version": 3
   },
   "file_extension": ".py",
   "mimetype": "text/x-python",
   "name": "python",
   "nbconvert_exporter": "python",
   "pygments_lexer": "ipython3",
   "version": "3.8.5"
  }
 },
 "nbformat": 4,
 "nbformat_minor": 4
}
