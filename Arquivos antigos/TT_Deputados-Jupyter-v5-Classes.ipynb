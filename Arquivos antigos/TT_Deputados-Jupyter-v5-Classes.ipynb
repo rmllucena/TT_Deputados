{
 "cells": [
  {
   "cell_type": "code",
   "execution_count": 2,
   "metadata": {},
   "outputs": [],
   "source": [
    "import tweepy as tw\n",
    "import time\n",
    "import gspread\n",
    "from oauth2client.service_account import ServiceAccountCredentials\n",
    "\n",
    "# KEYS PARA CONSEGUIR OS DADOS DO TWITTER\n",
    "consumer_key = 'D7CowpO9FOwoigwClR8k2MN9E'\n",
    "consumer_secret = 'Oc866wtthIiOUV1iksTK7n14mEeKHUgwavJzCKP8gTMyQBKFr1'\n",
    "access_token = '1542145388-xodgfVEv8WrOHNAKYtpmPUghD0nDvy5G6HTBi7P'\n",
    "access_token_secret = 'w9ljBnC99rES8lT2xT50r6VIhAKl9940NkAe2Md0V3lbj'\n",
    "# AUTENTICAÇÃO TWITTER\n",
    "auth = tw.OAuthHandler(consumer_key, consumer_secret)\n",
    "auth.set_access_token(access_token, access_token_secret)\n",
    "api = tw.API(auth, wait_on_rate_limit=True)\n",
    "# CÓDIGO QUE ENTRA NA GOOGLESHEET\n",
    "scope = ['https://www.googleapis.com/auth/spreadsheets', 'https://www.googleapis.com/auth/drive.file',\n",
    "             \"https://www.googleapis.com/auth/drive\"]\n",
    "creds = ServiceAccountCredentials.from_json_keyfile_name('client_secret.json', scope)\n",
    "client = gspread.authorize(creds)\n",
    "sheet1 = client.open('Testeclasses').worksheet(\"page1\")"
   ]
  },
  {
   "cell_type": "code",
   "execution_count": 3,
   "metadata": {},
   "outputs": [],
   "source": [
    "deputados = [[\"@abou_anni\", \"@AcacioFavacho\", \"@AdolfoViana_\", \"@adrianasounovo\", \"@adrianodobaldy\", \"@AecioNeves\", \n",
    "              \"@AfonsoFlorence\", \"@DepAfonsoHamm\", \"@afonso_motta\", \"@depaguinaldo11\", \"@FaleiroAirton\", \"@Alan_Rick\", \n",
    "              \"@Alceu_Moreira\", \"@oficialalesilva\", \"@AlencarBraga13\", \"@alessandromolon\", \"@AlexManentePPS\", \n",
    "              \"@depalexsantana\", \"@alefrotabrasil\", \"@lexandreleite\", \"@padilhando\", \"@AleSerfiotis\", \"@AlexisFonteyne\", \n",
    "              \"@Alice_Portugal\", \"@alielmachado\", \"@dep_alinegurgel\", \"@AlineSleutjes\", \"@Altineu\", \"@AluisioMendesMA\"], \n",
    "             [\"@amaronetotv\", \"@aferreira2020\", \"@andrepdt12\", \"@DepAndreFufuca\", \"@AndreJanonesAdv\", \"@DeputadaAngela\", \n",
    "              \"@AntonioBrito_\", \"@achinaglia\", \"@ArnaldoJardim\", \"@aroldomartins\", \"@ArthurLira_\", \"@DepArthurMaia\", \n",
    "              \"@assis_carvalho\", \"@deputadoatila\", \"@dep_acoutinho\", \"@aureacarolinax\", \"@AureoRibeiroRJ\", \"@Baleia_Rossi\", \n",
    "              \"@dasilvabenedita\", \"@benesleocadiorn\", \"@BetoFaroPT\", \"@betopereirams\", \"@BetoRosado\", \"@Biakicis\", \n",
    "              \"@bibonunes1\", \"@bilac_pinto\", \"@BiradoPindare\", \"@BocaAbertaOf\", \"@BohnGass\", \"@BoscoCosta_SE\"]]"
   ]
  },
  {
   "cell_type": "code",
   "execution_count": null,
   "metadata": {},
   "outputs": [],
   "source": []
  }
 ],
 "metadata": {
  "kernelspec": {
   "display_name": "Python 3",
   "language": "python",
   "name": "python3"
  },
  "language_info": {
   "codemirror_mode": {
    "name": "ipython",
    "version": 3
   },
   "file_extension": ".py",
   "mimetype": "text/x-python",
   "name": "python",
   "nbconvert_exporter": "python",
   "pygments_lexer": "ipython3",
   "version": "3.8.5"
  }
 },
 "nbformat": 4,
 "nbformat_minor": 4
}
